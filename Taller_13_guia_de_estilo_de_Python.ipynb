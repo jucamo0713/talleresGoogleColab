{
 "cells": [
  {
   "cell_type": "markdown",
   "metadata": {
    "id": "view-in-github",
    "colab_type": "text"
   },
   "source": [
    "<a href=\"https://colab.research.google.com/github/gabrielawad/talleresGoogleColab/blob/main/Taller_13_guia_de_estilo_de_Python.ipynb\" target=\"_parent\"><img src=\"https://colab.research.google.com/assets/colab-badge.svg\" alt=\"Open In Colab\"/></a>"
   ]
  },
  {
   "cell_type": "markdown",
   "source": [
    "## «*El código se lee con más frecuencia de la que se escribe*».\n",
    "### [Guido van Rossum](https://es.wikipedia.org/wiki/Guido_van_Rossum)"
   ],
   "metadata": {
    "id": "djdYnssh96Vf"
   }
  },
  {
   "cell_type": "markdown",
   "source": [
    "# Taller 13 Guía de estilo para escribir código en Python\n",
    "En este taller aprenderá los conceptos **básicos** relativos a la guía de estilo para escribir código en Python [(PEP8)](https://peps.python.org/pep-0008/).\n",
    "\n",
    "La guía de estilo busca mejorar la claridad y la legibilidad del código en Python, pero no afecta su ejecución.\n"
   ],
   "metadata": {
    "id": "m1ragERr9SE3"
   }
  },
  {
   "cell_type": "markdown",
   "source": [
    "# Referencias\n",
    "\n",
    "Este taller se base en información e ideas recopiladas de las siguientes fuentes:\n",
    "\n",
    "* [Python Style Guide | How to Write Neat and Impressive Python Code](https://www.analyticsvidhya.com/blog/2020/07/python-style-guide/)\n",
    "* [Python PEP 8 tutorial: Get started writing readable code](https://www.educative.io/blog/python-pep8-tutorial)\n",
    "* [Lesson 2. Clean Code Syntax for Python: Introduction to PEP 8 Style Guide](https://www.earthdatascience.org/courses/intro-to-earth-data-science/write-efficient-python-code/intro-to-clean-code/python-pep-8-style-guide/)\n",
    "* [PEP 8 : Coding Style guide in Python](https://www.geeksforgeeks.org/pep-8-coding-style-guide-python/)\n",
    "* [Code Style](https://docs.python-guide.org/writing/style/)\n",
    "* [How to Write Beautiful Python Code With PEP 8](https://realpython.com/python-pep8/)\n",
    "* [5 PEP8 Must-Remember Guidelines](https://towardsdatascience.com/5-pep8-must-remember-guidelines-b8390b9ec03d)\n",
    "* [Chapter 4. Writing Great Code](https://www.oreilly.com/library/view/the-hitchhikers-guide/9781491933213/ch04.html)\n",
    "* [Lesson 1. Introduction to Writing Clean Code and Literate Expressive Programming](https://www.earthdatascience.org/courses/intro-to-earth-data-science/write-efficient-python-code/intro-to-clean-code/)\n",
    "* [Lesson 3. Make Your Code Easier to Read By Using Expressive Variable Names in Python](https://www.earthdatascience.org/courses/intro-to-earth-data-science/write-efficient-python-code/intro-to-clean-code/expressive-variable-names-make-code-easier-to-read/)\n",
    "* [Zen de Python](https://es.wikipedia.org/wiki/Zen_de_Python)\n",
    "* [El Zen de Python Explicado](https://pybaq.co/blog/el-zen-de-python-explicado/)\n",
    "* [PEP 20 – El Zen de Python](https://elpythonista.com/zen-de-python)\n",
    "\n"
   ],
   "metadata": {
    "id": "bSWnQlgNEW--"
   }
  },
  {
   "cell_type": "markdown",
   "source": [
    "# El *Zen de Python*\n",
    "\n",
    "El *Zen de Python* es una recopilación de los principios de *software* utilizados para el diseño de código en Python.\n",
    "\n",
    "Para consultar esos principios basta escribir y ejecutar el siguiente código:\n",
    "\n",
    "**import** this\n"
   ],
   "metadata": {
    "id": "i9MZK6LRl7DZ"
   }
  },
  {
   "cell_type": "code",
   "source": [
    "# Código para acceder al Zen de Python\n",
    "import this"
   ],
   "metadata": {
    "id": "KcAsrR7EmAA9",
    "colab": {
     "base_uri": "https://localhost:8080/"
    },
    "outputId": "85b897f0-0ff3-4d7f-e155-996c2afc5f22"
   },
   "execution_count": 1,
   "outputs": [
    {
     "output_type": "stream",
     "name": "stdout",
     "text": [
      "The Zen of Python, by Tim Peters\n",
      "\n",
      "Beautiful is better than ugly.\n",
      "Explicit is better than implicit.\n",
      "Simple is better than complex.\n",
      "Complex is better than complicated.\n",
      "Flat is better than nested.\n",
      "Sparse is better than dense.\n",
      "Readability counts.\n",
      "Special cases aren't special enough to break the rules.\n",
      "Although practicality beats purity.\n",
      "Errors should never pass silently.\n",
      "Unless explicitly silenced.\n",
      "In the face of ambiguity, refuse the temptation to guess.\n",
      "There should be one-- and preferably only one --obvious way to do it.\n",
      "Although that way may not be obvious at first unless you're Dutch.\n",
      "Now is better than never.\n",
      "Although never is often better than *right* now.\n",
      "If the implementation is hard to explain, it's a bad idea.\n",
      "If the implementation is easy to explain, it may be a good idea.\n",
      "Namespaces are one honking great idea -- let's do more of those!\n"
     ]
    }
   ]
  },
  {
   "cell_type": "markdown",
   "source": [
    "# Facilita la lectura de tu código"
   ],
   "metadata": {
    "id": "To50p4zVmfU5"
   }
  },
  {
   "cell_type": "markdown",
   "source": [
    "## Cómo importar librerías y módulos\n",
    "\n",
    "Escriba en líneas separadas, al inicio del archivo, el código utilizado para importar las librerías requeridas.\n",
    "\n",
    "Se sugiere el siguiente orden:\n",
    "* Importar librerías de la biblioteca estándar.\n",
    "* Importar librerías de terceros.\n",
    "* Importar librerías específicas de bibliotecas y aplicaciones locales.\n"
   ],
   "metadata": {
    "id": "PWTfLtfRJaAe"
   }
  },
  {
   "cell_type": "markdown",
   "source": [
    "## Uso de la sangría (*indentation*)\n",
    "\n",
    "Python utiliza la sangría como herramienta para identificar los diferentes bloques (*if*, *for*, *while*, *function*, *Class*, etcétera). La falta de consistencia en las sangrías puede generar errores cuando se ejecute el código.\n",
    "\n",
    "La sangría facilita la visualización del código.\n",
    "\n",
    "Se recomienda usar cuatro espacios como sangría para cada nivel de código. Los tabuladores solo se recomiendan para mantener la consistencia de un código que ya los está utilizando.\n",
    "\n",
    "**Importante**: no mezcle espacios y tabuladores (aunque el ojo humano no detecta la diferencia, la máquina sí la detecta y pueden surgir errores al ejecutar el código)."
   ],
   "metadata": {
    "id": "kaNvoJqkE9Ql"
   }
  },
  {
   "cell_type": "markdown",
   "source": [
    "## No exceda la longitud máxima permitida para cada línea\n",
    "\n",
    "Las líneas largas de código son muy difíciles de leer. Escriba líneas de 79 o menos caracteres. En caso de que requiera partir una línea utilice **\\**.\n",
    "\n",
    "Si la línea de código contiene operadores binarios (**+**, **-**,  **/**, **=**,**<=**) divida la línea **antes** del operador binario."
   ],
   "metadata": {
    "id": "LhzELDdRQDqh"
   }
  },
  {
   "cell_type": "markdown",
   "source": [
    "## Manejo de líneas en blanco\n",
    "\n",
    "Las líneas en blanco permiten identificar con claridad los diferentes bloques que componen un código. Se recomienda utilizar al menos una línea en blanco entre bloques de diferente propósito.\n",
    "\n",
    "**Agregue una línea en blanco antes de una línea, o un bloque, con comentarios; salvo que el comentario sea la primera línea del código."
   ],
   "metadata": {
    "id": "yiqojCqiMMTY"
   }
  },
  {
   "cell_type": "markdown",
   "source": [
    "## Manejo de los espacios en blanco\n",
    "\n",
    "El exceso y la deficiencia de espacios en blanco afectan la legibilidad del código.\n",
    "\n",
    "Siempre use **un espacio en blanco** en los siguientes casos:\n",
    "\n",
    "* Antes y después de un operador binario (**+**, **-**,  **/**, **+=**, **-=**), de comparaciones (**==**, **<**, **>**, **!=**, **<>**, **<=**, **>=**, **in**, **not in**, **is**, **is not**), y Booleanos (**and**, **or**, **not**).\n",
    "* Después de una coma (**,**) que separa una secuencia de elementos.\n",
    "\n",
    "**No utilice** espacios en blanco en los siguientes casos:\n",
    "* Antes del primer elemento dentro de paréntesis, corchetes o llaves.\n",
    "* Después de una coma «*trasera*» y el paréntesis de cierra.\n",
    "* Antes de una coma (**,**), dos puntos (**:**), o un punto y coma (**;**).\n",
    "* Antes del primer paréntesis cuando se va a invocar una función."
   ],
   "metadata": {
    "id": "mZ9KmyUgaJnJ"
   }
  },
  {
   "cell_type": "markdown",
   "source": [
    "# Describe la lógica de tu código\n",
    "\n",
    "Los códigos se escriben para resolver algún tipo de problema. Cada persona soluciona el problema basada en su lógica particular. Aunque no todos los caminos conduzcan a Roma, sí se puede llegar a Roma por diversos caminos. Python ofrece dos herramientas: comentarios y documentación, que permiten explicar la lógica utilizada para escribir el código.\n",
    "\n",
    "**Comentar es diferente a documentar**.Los comentarios permiten entender el desarrollo del código. La documentación sirve de referencia sobre las operaciones de funciones, clases, librerías.\n",
    "\n",
    "Su *yo del futuro* y los usuarios de su código agradecerán a su *yo del presente* que comente y documente de manera adecuada su código."
   ],
   "metadata": {
    "id": "qL6xIIlYmRj1"
   }
  },
  {
   "cell_type": "markdown",
   "source": [
    "## Los comentarios\n",
    "\n",
    "Los comentarios explican qué hace el código, para qué o por qué lo hace. Es decir, los comentarios expresan en lenguaje entendible por seres humanos lo que se pretende que haga el código al momento de su ejecución. Los comentarios deben ser frases completas, claras y concisas.\n",
    "\n",
    "Antes de cada comentario escriba el signo numeral y deje un espacio en blanco (# ). También puede escribir comentarios usando (' ' ') antes y después del comentario.\n",
    "\n",
    "La primera palabra de cada comentario inicia con mayúscula.\n",
    "\n",
    "Los comentarios llevan la misma sangría que el bloque al que se refieren.\n",
    "\n",
    "**Actualice los comentarios cada vez que modifique el código**."
   ],
   "metadata": {
    "id": "XgPtxOeYEck1"
   }
  },
  {
   "cell_type": "markdown",
   "source": [
    "## La documentación\n",
    "\n",
    "La documentación de funciones, clases y módulos sigue la convención [PEP 257 – Docstring Conventions](https://peps.python.org/pep-0257/).\n",
    "\n",
    "Después de la línea donde se define la función, la clase o módulo se escribe la documentación respectiva. La documentación inicia y termina con tres comillas dobles (\"\"\").\n",
    "\n",
    "Si la documentación ocupa una sola línea, las comillas de apertura y de cierre van en la misma línea; en caso contrario (documentación multilínea) las comillas de cierre van solas en una línea independiente.\n",
    "\n",
    "La primera línea después de la línea de definición debe indicar lo que hace ese elemento. Las líneas posteriores contienen información adicional sobre el elemento."
   ],
   "metadata": {
    "id": "8lLfOOQqEfgt"
   }
  },
  {
   "cell_type": "code",
   "source": [
    "# Ejemplo de documentación de una función\n",
    "\n",
    "def calculate_sum(rainfall, time=\"month\"):\n",
    "  \"\"\"Returns a single sum value of all precipitation.\n",
    "\n",
    "  This function takes a pandas dataframe with time series as the index,\n",
    "  and calculates the total sum, aggregated by month.\n",
    "  \"\"\"\n",
    "\n",
    "  # Code here\n",
    "\n",
    "  return the_total_sum"
   ],
   "metadata": {
    "id": "B1mbtgUHSF7j"
   },
   "execution_count": null,
   "outputs": []
  },
  {
   "cell_type": "markdown",
   "source": [
    "# ¿Y qué nombre le pondrás?\n",
    "\n",
    "Los nombres utilizados en un código para designar sus elementos (variables, constantes funciones, objetos, clases, etcétera) ayudan a entender la forma en que el código funciona. Las convenciones de escritura facilitan conocer de qué tipo de elemento se trata.\n",
    "\n",
    "Utilice nombres **significativos**, es decir **descriptivos** y mnemotécnicos (que faciliten la asociación mental con su propósito en la resolución del problema)."
   ],
   "metadata": {
    "id": "SNBe2P26mRqx"
   }
  },
  {
   "cell_type": "markdown",
   "source": [
    "### Nombres peligrosos\n",
    "\n",
    "Se sugiere no utilizar letras aisladas (un solo carácter)  como nombres de elementos en los casos en que pueden ser confundidas con números.\n",
    "\n",
    "Por ejemplo:\n",
    "\n",
    "* **l**: letra minúscula ele\n",
    "* **I**: letra mayúscula i\n",
    "* **O**: letra mayúscula o\n",
    "\n",
    "en algunas fuentes tipográficas no se distinguen de los números 1 (uno) y O (cero).\n"
   ],
   "metadata": {
    "id": "it_jPF1M_JYq"
   }
  },
  {
   "cell_type": "markdown",
   "source": [
    "## nombres_de_variables y de funciones\n",
    "\n",
    "Los nombres de las variables y de las funciones deben ser cortos y **significativos**. Se escriben en minúsculas (*lowercase*). Se permite el uso de guiones bajos (*underscores*) para incrementar el significado del elemento.\n",
    "\n",
    "Esta convención también aplica para métodos e instancias."
   ],
   "metadata": {
    "id": "7mwRU_N_D0ff"
   }
  },
  {
   "cell_type": "markdown",
   "source": [
    "## NombresDeClases\n",
    "Los nombres de clases deben ser cortos y **significativos**. Se escriben siguiendo la convención *CamelCase*, también conocida como *CapitalizedWords*, es decur, iniciar con mayúscula cada palabra que compone el nombre y no utilizar guiones bajos (*underscores*)."
   ],
   "metadata": {
    "id": "Key9Wos8Co2C"
   }
  },
  {
   "cell_type": "markdown",
   "source": [
    "## nombres de paquetes y de módulos\n",
    "\n",
    "Los nombres deben ser cortos y **significativos**. Se escriben en minúsculas (*lowercase*). Se permite, **pero no se recomienda**, el uso de guiones bajos(*underscores*)."
   ],
   "metadata": {
    "id": "J1VOVFhfBgSa"
   }
  },
  {
   "cell_type": "markdown",
   "source": [
    "## NOMBRES_DE_CONSTANTES\n",
    "\n",
    "Los nombres de constantes deben ser cortos y **significativos**. Se escriben en mayúsculas sostenidas (*UPPERCASE*). En caso de necesidad se permite el uso de guiones bajos (*underscores*).\n",
    "\n",
    "**Las constantes solo se utilizan a nivel de módulo. No cree constantes en programas, funciones o clases**."
   ],
   "metadata": {
    "id": "sDstQqy_FSvo"
   }
  },
  {
   "cell_type": "markdown",
   "source": [
    "# Herramientas para ajustar el código al estilo PEP8.\n",
    "\n",
    "Las herramientas que ayudan a verificar que el código se ajusta a las normas de estilo se denominan *lintern*.\n",
    "\n",
    "Entre las herramientas más populares se encuentran:\n",
    "* [pycodestyle 2.2.0](https://pypi.org/project/pycodestyle/2.2.0/)\n",
    "* [autopep8](https://github.com/hhatto/autopep8)\n",
    "* [npep8](https://github.com/nbpep8/nbpep8) Diseñada para Google Colab y Kaggle."
   ],
   "metadata": {
    "id": "9T_mN3V_b58F"
   }
  },
  {
   "cell_type": "code",
   "source": [
    "# Código para instalar npep8 en Google Colab.\n",
    "# Es necesario instalar primero pycodestyle.\n",
    "# Instalar las librerías requeridas.\n",
    "!pip install pycodestyle\n",
    "!pip install --index-url https://test.pypi.org/simple/ nbpep8"
   ],
   "metadata": {
    "id": "6px85mGtd9uc"
   },
   "execution_count": null,
   "outputs": []
  },
  {
   "cell_type": "code",
   "source": [
    "# Importar la librería npep8\n",
    "from nbpep8.nbpep8 import pep8"
   ],
   "metadata": {
    "id": "3MVXrXWeesBG",
    "ExecuteTime": {
     "end_time": "2023-09-03T21:04:36.480251752Z",
     "start_time": "2023-09-03T21:04:36.299816755Z"
    }
   },
   "execution_count": 6,
   "outputs": []
  },
  {
   "cell_type": "code",
   "source": [
    "# Escriba acá su código\n",
    "print(   \"Hola mundo\"    )\n",
    "\n",
    "# Instrucción para verificar el estilo PEP8.\n",
    "# Requiere instalar e importar, de manera previa, los módulos asociados\n",
    "pep8(_ih)"
   ],
   "metadata": {
    "id": "EFkCXSY3fpaX",
    "ExecuteTime": {
     "end_time": "2023-09-03T21:04:54.064159007Z",
     "start_time": "2023-09-03T21:04:53.751203588Z"
    }
   },
   "execution_count": 8,
   "outputs": [
    {
     "name": "stdout",
     "output_type": "stream",
     "text": [
      "Hola mundo\n",
      "cell_content.py:2:7: E201 whitespace after '('\n",
      "cell_content.py:2:25: E202 whitespace before ')'\n"
     ]
    }
   ]
  },
  {
   "cell_type": "markdown",
   "source": [
    "# Páginas para ajustar el código al estilo PEP8\n",
    "\n",
    "En los siguientes sitios puede revisar si el código se ajusta al estilo PEP8:\n",
    "\n",
    "*[Python formatter](https://extendsclass.com/python-formatter.html)\n",
    "\n",
    "*[Code Beautify Python formatter](https://codebeautify.org/python-formatter-beautifier)\n",
    "\n",
    "*[ONLINE PYTHON FORMATTER](https://www.tutorialspoint.com/online_python_formatter.htm)"
   ],
   "metadata": {
    "id": "qOMgHzhlDSTb"
   }
  },
  {
   "cell_type": "markdown",
   "source": [
    "# **Ejercicios**.\n"
   ],
   "metadata": {
    "id": "pTHPw9Z8biXx"
   }
  },
  {
   "cell_type": "markdown",
   "source": [
    "## 00.\n",
    "Modifique el siguiente código para que se ajuste a las recomendaciones del PEP 8. Asigne nombres significativos a los elementos. Agregue comentarios y documentación en los casos que se requieran."
   ],
   "metadata": {
    "id": "-a8z0qMIoQIM"
   }
  },
  {
   "cell_type": "code",
   "source": [
    "print('one'); print('two')\n",
    "x=2\n",
    "if x == 1: print('one')"
   ],
   "metadata": {
    "id": "_c3OMX8dM3CL"
   },
   "execution_count": null,
   "outputs": []
  },
  {
   "cell_type": "code",
   "source": [
    "# Este código imprime 'one' y 'two' en líneas separadas,\n",
    "# Si x es igual a 1,imprimirá nuevamente 'one'.\n",
    "\n",
    "print('one')\n",
    "print('two')\n",
    "\n",
    "x = 2\n",
    "\n",
    "if x == 1:\n",
    "    print('one')"
   ],
   "metadata": {
    "id": "BE5ya0RhM2re",
    "ExecuteTime": {
     "end_time": "2023-09-03T21:05:07.875855671Z",
     "start_time": "2023-09-03T21:05:07.576148166Z"
    }
   },
   "execution_count": 9,
   "outputs": [
    {
     "name": "stdout",
     "output_type": "stream",
     "text": [
      "one\n",
      "two\n"
     ]
    }
   ]
  },
  {
   "cell_type": "markdown",
   "source": [
    "## 01.\n",
    "Modifique el siguiente código para que se ajuste a las recomendaciones del PEP 8. Asigne nombres significativos a los elementos. Agregue comentarios y documentación en los casos que se requieran."
   ],
   "metadata": {
    "id": "VmKoBAsFbu-u"
   }
  },
  {
   "cell_type": "code",
   "source": [
    "def multiplicacion_escalar(escalar,       matriz):\n",
    "    c = []\n",
    "    for i in range(    0, len(matriz)     ):\n",
    "        c.append([])\n",
    "        for j in range(     0, len(matriz[0])):\n",
    "            c[i].append(matriz[i][j] * escalar)\n",
    "    return c\n",
    "\n",
    "\n",
    "B = [     [ 6, 3, 2 ] ,     [ 1, 1, 1] ]\n",
    "\n",
    "\n",
    "\n",
    "\n",
    "\n",
    "print(multiplicacion_escalar(2, B))"
   ],
   "metadata": {
    "id": "25c2_lhvclvY"
   },
   "execution_count": null,
   "outputs": []
  },
  {
   "cell_type": "code",
   "source": [
    "def multiplicacion_escalar(escalar, matriz):\n",
    "    \"\"\"\n",
    "    Multiplica una matriz por un escalar y devuelve la matriz resultante.\n",
    "\n",
    "    Args:\n",
    "        escalar (int or float): El valor por el cual multiplicar\n",
    "         cada elemento de la matriz.\n",
    "        matriz (list of list): La matriz que se multiplicará por el escalar.\n",
    "\n",
    "    Returns:\n",
    "        list of list: La matriz resultante después de la\n",
    "        multiplicación por el escalar.\n",
    "    \"\"\"\n",
    "    # Inicializamos una lista vacía para el resultado.\n",
    "    c = []\n",
    "\n",
    "    # Iteramos a través de las filas de la matriz.\n",
    "    for i in range(0, len(matriz)):\n",
    "        # Agregamos una lista vacía para cada fila de la matriz resultante.\n",
    "        c.append([])\n",
    "        # Iteramos a través de las columnas de la matriz.\n",
    "        for j in range(0, len(matriz[0])):\n",
    "            # Multiplicamos cada elemento de la matriz por el escalar\n",
    "            # y lo agregamos a la fila correspondiente.\n",
    "            c[i].append(matriz[i][j] * escalar)\n",
    "\n",
    "    # Devolvemos la matriz resultante.\n",
    "    return c\n",
    "\n",
    "\n",
    "# Definimos la matriz B.\n",
    "B = [\n",
    "    [6, 3, 2],\n",
    "    [1, 1, 1]\n",
    "]\n",
    "\n",
    "# Llamamos a la función multiplicacion_escalar con el escalar 2\n",
    "# y la matriz B e imprimimos el resultado.\n",
    "resultado = multiplicacion_escalar(2, B)\n",
    "print(resultado)"
   ],
   "metadata": {
    "id": "CgltiU1nelCr",
    "ExecuteTime": {
     "end_time": "2023-09-03T21:08:21.866073394Z",
     "start_time": "2023-09-03T21:08:21.516391884Z"
    }
   },
   "execution_count": 14,
   "outputs": [
    {
     "name": "stdout",
     "output_type": "stream",
     "text": [
      "[[12, 6, 4], [2, 2, 2]]\n"
     ]
    }
   ]
  },
  {
   "cell_type": "markdown",
   "source": [
    "## 02.\n",
    "Modifique el siguiente código para que se ajuste a las recomendaciones del PEP 8. Asigne nombres significativos a los elementos. AAAAAAAAAAAgregue comentarios y documentación en los casos que se requieran."
   ],
   "metadata": {
    "id": "Arqn5zD3gqti"
   }
  },
  {
   "cell_type": "code",
   "source": [
    "import numpy as np\n",
    "\n",
    "MATRIZ_1 = np.array([    [2,6,2, 5],              [8, 3, 7, 3],            [5, 8, 1, 2]])\n",
    "\n",
    "print (MATRIZ_1)"
   ],
   "metadata": {
    "id": "NXZjE4dggyZW"
   },
   "execution_count": null,
   "outputs": []
  },
  {
   "cell_type": "code",
   "source": [
    "import numpy as np\n",
    "\n",
    "# Definimos una matriz usando la biblioteca NumPy.\n",
    "MATRIZ_1 = np.array([\n",
    "    [2, 6, 2, 5],\n",
    "    [8, 3, 7, 3],\n",
    "    [5, 8, 1, 2]\n",
    "])\n",
    "\n",
    "# Imprimimos la matriz MATRIZ_1.\n",
    "print(MATRIZ_1)"
   ],
   "metadata": {
    "id": "X9wVvlGRhw6L",
    "ExecuteTime": {
     "end_time": "2023-09-03T21:08:34.438970069Z",
     "start_time": "2023-09-03T21:08:33.640357983Z"
    }
   },
   "execution_count": 15,
   "outputs": [
    {
     "name": "stdout",
     "output_type": "stream",
     "text": [
      "[[2 6 2 5]\n",
      " [8 3 7 3]\n",
      " [5 8 1 2]]\n"
     ]
    }
   ]
  },
  {
   "cell_type": "markdown",
   "source": [
    "## 03.\n",
    "Modifique el siguiente código para que se ajuste a las recomendaciones del PEP 8. Asigne nombres significativos a los elementos. Agregue comentarios y documentación en los casos que se requieran.\n"
   ],
   "metadata": {
    "id": "lB5c5h2DlBLm"
   }
  },
  {
   "cell_type": "code",
   "source": [
    "import numpy as np\n",
    "p=12 #Pa\n",
    "r=997 #kg/m^3\n",
    "v=15 #m/s\n",
    "g=9,8 #m/s^2\n",
    "h=1 #m\n",
    "z=1,12 #m\n",
    "b= ((r*v)+h+(p*v))\n",
    "print (b)"
   ],
   "metadata": {
    "id": "elks-TshlBMM"
   },
   "execution_count": null,
   "outputs": []
  },
  {
   "cell_type": "code",
   "source": [
    "# Definimos algunas variables con valores numéricos.\n",
    "p = 12  # Presión en Pascales (Pa)\n",
    "r = 997  # Densidad en kg/m^3\n",
    "v = 15  # Velocidad en m/s\n",
    "g = 9.8  # Aceleración debido a la gravedad en m/s^2\n",
    "h = 1  # Altura en metros\n",
    "z = 1.12  # Otra altura en metros\n",
    "\n",
    "# Calculamos el valor de b utilizando las variables definidas.\n",
    "b = ((r * v) + h + (p * v))\n",
    "\n",
    "# Imprimimos el valor calculado de b.\n",
    "print(b)"
   ],
   "metadata": {
    "id": "wj_zaGrllBMP",
    "ExecuteTime": {
     "end_time": "2023-09-03T21:08:42.588767206Z",
     "start_time": "2023-09-03T21:08:42.296253408Z"
    }
   },
   "execution_count": 16,
   "outputs": [
    {
     "name": "stdout",
     "output_type": "stream",
     "text": [
      "15136\n"
     ]
    }
   ]
  },
  {
   "cell_type": "markdown",
   "source": [
    "## 04.\n",
    "Modifique el siguiente código para que se ajuste a las recomendaciones del PEP 8. Asigne nombres significativos a los elementos. Agregue comentarios y documentación en los casos que se requieran."
   ],
   "metadata": {
    "id": "-SzuAehUsrtm"
   }
  },
  {
   "cell_type": "code",
   "source": [
    "lista1 = [1, 3, 5]\n",
    "lista2 = [2, 4, 6]\n",
    "lista3 = lista1 + lista2\n",
    "print(lista3)"
   ],
   "metadata": {
    "id": "PXayYrVMs1UD"
   },
   "execution_count": null,
   "outputs": []
  },
  {
   "cell_type": "code",
   "source": [
    "# Definimos dos listas, lista1 y lista2, que contienen números.\n",
    "lista1 = [1, 3, 5]\n",
    "lista2 = [2, 4, 6]\n",
    "\n",
    "# Concatenamos las dos listas en una nueva lista, lista3.\n",
    "lista3 = lista1 + lista2\n",
    "\n",
    "# Imprimimos la lista3 que contiene los elementos de lista1\n",
    "# seguidos de los elementos de lista2.\n",
    "print(lista3)"
   ],
   "metadata": {
    "id": "9Ub63ukquc_q",
    "ExecuteTime": {
     "end_time": "2023-09-03T21:09:13.112755117Z",
     "start_time": "2023-09-03T21:09:12.815052957Z"
    }
   },
   "execution_count": 18,
   "outputs": [
    {
     "name": "stdout",
     "output_type": "stream",
     "text": [
      "[1, 3, 5, 2, 4, 6]\n"
     ]
    }
   ]
  },
  {
   "cell_type": "markdown",
   "source": [
    "## 05.\n",
    "Modifique el siguiente código para que se ajuste a las recomendaciones del PEP 8. Asigne nombres significativos a los elementos. Agregue comentarios y documentación en los casos que se requieran."
   ],
   "metadata": {
    "id": "l6pPhHIOvueL"
   }
  },
  {
   "cell_type": "code",
   "source": [
    "def area_rectangulo():\n",
    "\n",
    "\n",
    "    x = float(input(\"Ingrese la base del rectángulo: \"))\n",
    "\n",
    "\n",
    "    y= float (input(\"Ingrese la altura del rectángulo: \"))\n",
    "\n",
    "\n",
    "    AREA = x*y\n",
    "\n",
    "    return AREA\n",
    "\n",
    "Area_Rec = area_rectangulo()\n",
    "\n",
    "\n",
    "\n",
    "print(Area_Rec)\n",
    "print(area_rectangulo.__doc__)"
   ],
   "metadata": {
    "id": "tqRl9wypwDNQ"
   },
   "execution_count": null,
   "outputs": []
  },
  {
   "cell_type": "code",
   "source": [
    "def area_rectangulo():\n",
    "    \"\"\"\n",
    "    Calcula el área de un rectángulo.\n",
    "\n",
    "    El usuario debe proporcionar la base y la altura del rectángulo.\n",
    "\n",
    "    Returns:\n",
    "        float: El área del rectángulo calculada como base * altura.\n",
    "    \"\"\"\n",
    "    x = float(input(\"Ingrese la base del rectángulo: \"))\n",
    "    y = float(input(\"Ingrese la altura del rectángulo: \"))\n",
    "    AREA = x * y\n",
    "\n",
    "    return AREA\n",
    "\n",
    "\n",
    "# Llamamos a la función area_rectangulo para calcular el área\n",
    "# lo almacenamos en la variable Area_Rec.\n",
    "Area_Rec = area_rectangulo()\n",
    "\n",
    "# Imprimimos el área calculada.\n",
    "print(\"El área del rectángulo es:\", Area_Rec)\n",
    "\n",
    "# Imprimimos la documentación de la función area_rectangulo.\n",
    "print(area_rectangulo.__doc__)"
   ],
   "metadata": {
    "id": "do_vEyGxwwWX",
    "ExecuteTime": {
     "end_time": "2023-09-03T21:10:45.908020501Z",
     "start_time": "2023-09-03T21:10:41.779664141Z"
    }
   },
   "execution_count": 21,
   "outputs": [
    {
     "name": "stdout",
     "output_type": "stream",
     "text": [
      "El área del rectángulo es: 100.0\n",
      "\n",
      "    Calcula el área de un rectángulo.\n",
      "\n",
      "    El usuario debe proporcionar la base y la altura del rectángulo.\n",
      "\n",
      "    Returns:\n",
      "        float: El área del rectángulo calculada como base * altura.\n",
      "    \n"
     ]
    }
   ]
  },
  {
   "cell_type": "markdown",
   "source": [
    "## 06.\n",
    "Modifique el siguiente código para que se ajuste a las recomendaciones del PEP 8. Asigne nombres significativos a los elementos. Agregue comentarios y documentación en los casos que se requieran."
   ],
   "metadata": {
    "id": "WxbOkxkPyHOl"
   }
  },
  {
   "cell_type": "code",
   "source": [
    "def mostrar(  num_rows,      char):\n",
    "\tfor i in range(    num_rows    ):\n",
    "\t\tfor num_cols in range(num_rows-i):\n",
    "\t\t\tprint(char,     end=\"\")\n",
    "\t\tprint()\n",
    "\n",
    "mostrar(7, \"B\")"
   ],
   "metadata": {
    "id": "esiaXoBDyHO8"
   },
   "execution_count": null,
   "outputs": []
  },
  {
   "cell_type": "code",
   "source": [
    "def mostrar(num_rows, char):\n",
    "    \"\"\"\n",
    "    Muestra un patrón de caracteres en forma de pirámide.\n",
    "\n",
    "    Args:\n",
    "        num_rows (int): El número de filas de la pirámide.\n",
    "        char (str): El carácter que se mostrará en la pirámide.\n",
    "    \"\"\"\n",
    "    for i in range(num_rows):\n",
    "        for num_cols in range(num_rows - i):\n",
    "            print(char, end=\"\")\n",
    "        print()\n",
    "\n",
    "\n",
    "# Llamamos a la función mostrar para imprimir una pirámide con 7 filas\n",
    "# Y el carácter \"B\".\n",
    "mostrar(7, \"B\")"
   ],
   "metadata": {
    "id": "w_NhIqrKyHO9",
    "ExecuteTime": {
     "end_time": "2023-09-03T21:11:21.193220675Z",
     "start_time": "2023-09-03T21:11:20.803520014Z"
    }
   },
   "execution_count": 23,
   "outputs": [
    {
     "name": "stdout",
     "output_type": "stream",
     "text": [
      "BBBBBBB\n",
      "BBBBBB\n",
      "BBBBB\n",
      "BBBB\n",
      "BBB\n",
      "BB\n",
      "B\n"
     ]
    }
   ]
  },
  {
   "cell_type": "markdown",
   "source": [
    "## 07.\n",
    "Modifique el siguiente código para que se ajuste a las recomendaciones del PEP 8. Asigne nombres significativos a los elementos. Agregue comentarios y documentación en los casos que se requieran."
   ],
   "metadata": {
    "id": "becLbSY7z17G"
   }
  },
  {
   "cell_type": "code",
   "source": [
    "def PrimerPar(seq):\n",
    "    for elem in seq:\n",
    "        if elem % 2 == 0:\n",
    "            return elem\n",
    "    else:\n",
    "        return None\n",
    "\n",
    "PrimerPar(   [1, 9, 47  , 30]  )"
   ],
   "metadata": {
    "id": "_vlefugoFetG"
   },
   "execution_count": null,
   "outputs": []
  },
  {
   "cell_type": "code",
   "source": [
    "def PrimerPar(seq):\n",
    "    \"\"\"\n",
    "    Encuentra el primer número par en una secuencia.\n",
    "\n",
    "    Args:\n",
    "        seq (list): Una secuencia de números.\n",
    "\n",
    "    Returns:\n",
    "        int or None: El primer número par encontrado en la secuencia\n",
    "        None si no se encontraron números pares.\n",
    "    \"\"\"\n",
    "    for elem in seq:\n",
    "        if elem % 2 == 0:\n",
    "            return elem\n",
    "    else:\n",
    "        return None\n",
    "\n",
    "\n",
    "# Llamamos a la función PrimerPar con una lista de ejemplo [1, 9, 47, 30].\n",
    "resultado = PrimerPar([1, 9, 47, 30])\n",
    "\n",
    "# Imprimimos el resultado, que será el primer número par encontrado\n",
    "# None si no hay ninguno.\n",
    "print(\"El primer número par es:\", resultado)"
   ],
   "metadata": {
    "id": "PpP0muOYFd6n",
    "ExecuteTime": {
     "end_time": "2023-09-03T21:12:30.672220667Z",
     "start_time": "2023-09-03T21:12:30.313738872Z"
    }
   },
   "execution_count": 25,
   "outputs": [
    {
     "name": "stdout",
     "output_type": "stream",
     "text": [
      "El primer número par es: 30\n"
     ]
    }
   ]
  },
  {
   "cell_type": "markdown",
   "source": [
    "## 08\n",
    "Modifique el siguiente código para que se ajuste a las recomendaciones del PEP 8. Asigne nombres significativos a los elementos. Agregue comentarios y documentación en los casos que se requieran."
   ],
   "metadata": {
    "id": "0Yebe97Z0vXs"
   }
  },
  {
   "cell_type": "code",
   "source": [
    "import google.colab.files as fl\n",
    "import numpy as np\n",
    "\n",
    "\n",
    "\n",
    "with open(\"racionales.txt\", \"w\") as numeros:\n",
    "  for i in range (50000):\n",
    "    numeros.write(str(np.random.normal(1000, 500))+\"\\n\")\n",
    "\n",
    "\n",
    "fl.download(\"racionales.txt\")\n",
    ""
   ],
   "metadata": {
    "id": "2MiPy6c1z17L"
   },
   "execution_count": null,
   "outputs": []
  },
  {
   "cell_type": "code",
   "source": [
    "import google.colab.files as fl\n",
    "import numpy as np\n",
    "\n",
    "# Generar y escribe 50,000 números aleatorios\n",
    "# en un archivo llamado \"racionales.txt\".\n",
    "with open(\"racionales.txt\", \"w\") as numeros:\n",
    "    for i in range(50000):\n",
    "        numeros.write(str(np.random.normal(1000, 500)) + \"\\n\")\n",
    "\n",
    "# Descargar el archivo \"racionales.txt\".\n",
    "fl.download(\"racionales.txt\")"
   ],
   "metadata": {
    "id": "FCCRfXpBz17P",
    "ExecuteTime": {
     "end_time": "2023-09-03T21:13:54.380853979Z",
     "start_time": "2023-09-03T21:13:54.123262385Z"
    }
   },
   "execution_count": 29,
   "outputs": [
    {
     "ename": "ModuleNotFoundError",
     "evalue": "No module named 'google.colab'",
     "output_type": "error",
     "traceback": [
      "\u001B[0;31m---------------------------------------------------------------------------\u001B[0m",
      "\u001B[0;31mModuleNotFoundError\u001B[0m                       Traceback (most recent call last)",
      "Cell \u001B[0;32mIn[29], line 1\u001B[0m\n\u001B[0;32m----> 1\u001B[0m \u001B[38;5;28;01mimport\u001B[39;00m \u001B[38;5;21;01mgoogle\u001B[39;00m\u001B[38;5;21;01m.\u001B[39;00m\u001B[38;5;21;01mcolab\u001B[39;00m\u001B[38;5;21;01m.\u001B[39;00m\u001B[38;5;21;01mfiles\u001B[39;00m \u001B[38;5;28;01mas\u001B[39;00m \u001B[38;5;21;01mfl\u001B[39;00m\n\u001B[1;32m      2\u001B[0m \u001B[38;5;28;01mimport\u001B[39;00m \u001B[38;5;21;01mnumpy\u001B[39;00m \u001B[38;5;28;01mas\u001B[39;00m \u001B[38;5;21;01mnp\u001B[39;00m\n\u001B[1;32m      4\u001B[0m \u001B[38;5;66;03m# Generar y escribe 50,000 números aleatorios\u001B[39;00m\n\u001B[1;32m      5\u001B[0m \u001B[38;5;66;03m# en un archivo llamado \"racionales.txt\".\u001B[39;00m\n",
      "\u001B[0;31mModuleNotFoundError\u001B[0m: No module named 'google.colab'"
     ]
    }
   ]
  },
  {
   "cell_type": "markdown",
   "source": [
    "## 09.\n",
    "Modifique el siguiente código para que se ajuste a las recomendaciones del PEP 8. Asigne nombres significativos a los elementos. Agregue comentarios y documentación en los casos que se requieran."
   ],
   "metadata": {
    "id": "70Y91RxspX8D"
   }
  },
  {
   "cell_type": "code",
   "source": [
    "def x(l):\n",
    "    size = len(l)\n",
    "\n",
    "\n",
    "    temp = l[0]\n",
    "    l[0] = l[size - 1]\n",
    "    l[size - 1] = temp\n",
    "\n",
    "    return l\n",
    "\n",
    "\n",
    "a = [12, 35, 9, 56, 24]\n",
    "\n",
    "print(x(a))"
   ],
   "metadata": {
    "id": "q_Ui9LHkpbjs"
   },
   "execution_count": null,
   "outputs": []
  },
  {
   "cell_type": "code",
   "source": [
    "def swap_first_last(lst):\n",
    "    \"\"\"\n",
    "    Intercambia el primer y último elemento de una lista.\n",
    "\n",
    "    Args:\n",
    "        lst (list): La lista en la que se realizará el intercambio.\n",
    "\n",
    "    Returns:\n",
    "        list: La lista con el primer y último elemento intercambiados.\n",
    "    \"\"\"\n",
    "    size = len(lst)\n",
    "\n",
    "    temp = lst[0]\n",
    "    lst[0] = lst[size - 1]\n",
    "    lst[size - 1] = temp\n",
    "\n",
    "    return lst\n",
    "\n",
    "\n",
    "# Definimos una lista 'a'.\n",
    "a = [12, 35, 9, 56, 24]\n",
    "\n",
    "# Llamamos a la función 'swap_first_last'\n",
    "# Para intercambiar el primer y último elemento de la lista 'a'.\n",
    "resultado = swap_first_last(a)\n",
    "\n",
    "# Imprimimos el resultado después del intercambio.\n",
    "print(resultado)"
   ],
   "metadata": {
    "id": "Jr58KMDGoI16",
    "ExecuteTime": {
     "end_time": "2023-09-03T21:14:24.972867711Z",
     "start_time": "2023-09-03T21:14:24.585964299Z"
    }
   },
   "execution_count": 31,
   "outputs": [
    {
     "name": "stdout",
     "output_type": "stream",
     "text": [
      "[24, 35, 9, 56, 12]\n"
     ]
    }
   ]
  },
  {
   "cell_type": "markdown",
   "source": [
    "## 10.\n",
    "Modifique el siguiente código para que se ajuste a las recomendaciones del PEP 8. Asigne nombres significativos a los elementos. Agregue comentarios y documentación en los casos que se requieran."
   ],
   "metadata": {
    "id": "npt9SGPNpdWQ"
   }
  },
  {
   "cell_type": "code",
   "source": [
    "def DuPLiCaDoS(string):\n",
    "\n",
    "    chars = {}\n",
    "\n",
    "\n",
    "    for char in string:\n",
    "\n",
    "        if char not in chars:\n",
    "            chars[char] = 1\n",
    "        else:\n",
    "\n",
    "            chars[char] += 1\n",
    "\n",
    "\n",
    "    d = []\n",
    "\n",
    "\n",
    "    for char, count in chars.items():\n",
    "        if count > 1:\n",
    "            d.append(char)\n",
    "\n",
    "    return d\n",
    "\n",
    "\n",
    "print(DuPLiCaDoS(\"mi mama me mima\"))"
   ],
   "metadata": {
    "id": "4CLR6GxNpf93",
    "ExecuteTime": {
     "end_time": "2023-09-03T21:14:33.483392116Z",
     "start_time": "2023-09-03T21:14:33.127999818Z"
    }
   },
   "execution_count": 32,
   "outputs": [
    {
     "name": "stdout",
     "output_type": "stream",
     "text": [
      "['m', 'i', ' ', 'a']\n",
      "cell_content.py:6:5: E303 too many blank lines (2)\n",
      "cell_content.py:15:5: E303 too many blank lines (2)\n",
      "cell_content.py:18:5: E303 too many blank lines (2)\n"
     ]
    }
   ]
  },
  {
   "cell_type": "code",
   "source": [
    "def duplicados(string):\n",
    "    \"\"\"\n",
    "    Encuentra caracteres duplicados en una cadena de texto.\n",
    "\n",
    "    Args:\n",
    "        string (str): La cadena de texto\n",
    "        en la que se buscarán caracteres duplicados.\n",
    "\n",
    "    Returns:\n",
    "        list: Una lista de caracteres que aparecen más de una vez en la cadena.\n",
    "    \"\"\"\n",
    "    chars = {}\n",
    "\n",
    "    for char in string:\n",
    "        if char not in chars:\n",
    "            chars[char] = 1\n",
    "        else:\n",
    "            chars[char] += 1\n",
    "\n",
    "    duplicados_list = []\n",
    "\n",
    "    for char, count in chars.items():\n",
    "        if count > 1:\n",
    "            duplicados_list.append(char)\n",
    "\n",
    "    return duplicados_list\n",
    "\n",
    "\n",
    "# Llamamos a la función 'duplicados' con una cadena de ejemplo\n",
    "resultado = duplicados(\"mi mama me mima\")\n",
    "# mostramos los caracteres duplicados.\n",
    "print(resultado)"
   ],
   "metadata": {
    "id": "MGbvLw1qoMfJ",
    "ExecuteTime": {
     "end_time": "2023-09-03T21:15:33.899075229Z",
     "start_time": "2023-09-03T21:15:33.600020353Z"
    }
   },
   "execution_count": 35,
   "outputs": [
    {
     "name": "stdout",
     "output_type": "stream",
     "text": [
      "['m', 'i', ' ', 'a']\n",
      "cell_content.py:6:41: W291 trailing whitespace\n"
     ]
    }
   ]
  },
  {
   "cell_type": "markdown",
   "source": [
    "## 11.\n",
    "Modifique el siguiente código para que se ajuste a las recomendaciones del PEP 8. Asigne nombres significativos a los elementos. Agregue comentarios y documentación en los casos que se requieran."
   ],
   "metadata": {
    "id": "m_ijhclUphps"
   }
  },
  {
   "cell_type": "code",
   "source": [
    "TestList = [[\"Gfg\", \"good\"], [\"is\", \"for\"], [\"Best\"]]\n",
    "\n",
    "\n",
    "print(\"La lista original es : \" + str(TestList))\n",
    "\n",
    "\n",
    "res = []\n",
    "N = 0\n",
    "while N != len(TestList):\n",
    "    temp = ''\n",
    "    for idx in TestList:\n",
    "\n",
    "\n",
    "        try: temp = temp + idx[N]\n",
    "        except IndexError: pass\n",
    "    res.append(temp)\n",
    "    N = N + 1\n",
    "\n",
    "res = [ele for ele in res if ele]\n",
    "\n",
    "\n",
    "print(\"La nueva lista es : \" + str(res))"
   ],
   "metadata": {
    "id": "To2n_MWXpj0U"
   },
   "execution_count": null,
   "outputs": []
  },
  {
   "cell_type": "code",
   "source": [
    "# Definimos la lista original 'TestList'.\n",
    "TestList = [[\"Gfg\", \"good\"], [\"is\", \"for\"], [\"Best\"]]\n",
    "\n",
    "# Imprimimos la lista original.\n",
    "print(\"La lista original es : \" + str(TestList))\n",
    "\n",
    "# Inicializamos una lista vacía 'res' para almacenar los resultados.\n",
    "res = []\n",
    "N = 0\n",
    "\n",
    "# Iteramos mientras N no sea igual a la longitud de TestList.\n",
    "while N != len(TestList):\n",
    "    temp = ''\n",
    "    for idx in TestList:\n",
    "        try:\n",
    "            temp = temp + idx[N]\n",
    "        except IndexError:\n",
    "            pass\n",
    "    res.append(temp)\n",
    "    N = N + 1\n",
    "\n",
    "# Filtramos elementos vacíos de la lista 'res'.\n",
    "res = [ele for ele in res if ele]\n",
    "\n",
    "# Imprimimos la lista resultante.\n",
    "print(\"La nueva lista es : \" + str(res))"
   ],
   "metadata": {
    "id": "VNY2qrtMoL3P",
    "ExecuteTime": {
     "end_time": "2023-09-03T21:16:35.693904718Z",
     "start_time": "2023-09-03T21:16:35.321032416Z"
    }
   },
   "execution_count": 37,
   "outputs": [
    {
     "name": "stdout",
     "output_type": "stream",
     "text": [
      "La lista original es : [['Gfg', 'good'], ['is', 'for'], ['Best']]\n",
      "La nueva lista es : ['GfgisBest', 'goodfor']\n"
     ]
    }
   ]
  },
  {
   "cell_type": "markdown",
   "source": [
    "## 12.\n",
    "Modifique el siguiente código para que se ajuste a las recomendaciones del PEP 8. Asigne nombres significativos a los elementos. Agregue comentarios y documentación en los casos que se requieran."
   ],
   "metadata": {
    "id": "02CUs83DplVE"
   }
  },
  {
   "cell_type": "code",
   "source": [
    "\n",
    "def AcUmUlAdO(h):\n",
    "    cu_list = []\n",
    "    length = len(h)\n",
    "    cu_list = [sum(h[0:x:1]) for x in range(0, length+1)]\n",
    "    return cu_list[1:]\n",
    "\n",
    "\n",
    "LiSTA = [10, 20, 30, 40, 50]\n",
    "print (AcUmUlAdO(LiSTA))"
   ],
   "metadata": {
    "id": "FwiwpcpBpnoK"
   },
   "execution_count": null,
   "outputs": []
  },
  {
   "cell_type": "code",
   "source": [
    "def acumulado(lista):\n",
    "    \"\"\"\n",
    "    Calcula la lista acumulativa de una lista dada.\n",
    "\n",
    "    Args:\n",
    "        lista (list): La lista de entrada.\n",
    "\n",
    "    Returns:\n",
    "        list: La lista acumulativa, donde cada elemento es la suma\n",
    "        De los elementos anteriores en la lista de entrada.\n",
    "    \"\"\"\n",
    "    cu_list = []\n",
    "    length = len(lista)\n",
    "    cu_list = [sum(lista[0:x+1]) for x in range(0, length)]\n",
    "    return cu_list\n",
    "\n",
    "\n",
    "# Definimos una lista 'lista'.\n",
    "lista = [10, 20, 30, 40, 50]\n",
    "\n",
    "# Llamamos a la función 'acumulado'\n",
    "# Para calcular la lista acumulativa y la imprimimos.\n",
    "resultado = acumulado(lista)\n",
    "print(resultado)"
   ],
   "metadata": {
    "id": "s-Fa7IaGoLTI",
    "ExecuteTime": {
     "end_time": "2023-09-03T21:19:12.873995164Z",
     "start_time": "2023-09-03T21:19:12.578226303Z"
    }
   },
   "execution_count": 41,
   "outputs": [
    {
     "name": "stdout",
     "output_type": "stream",
     "text": [
      "[10, 30, 60, 100, 150]\n"
     ]
    }
   ]
  },
  {
   "cell_type": "markdown",
   "source": [
    "## 13.\n",
    "Modifique el siguiente código para que se ajuste a las recomendaciones del PEP 8. Asigne nombres significativos a los elementos. Agregue comentarios y documentación en los casos que se requieran."
   ],
   "metadata": {
    "id": "nhND6WYJppVU"
   }
  },
  {
   "cell_type": "code",
   "source": [
    "\n",
    "\n",
    "\n",
    "def squaresum(n) :\n",
    "\n",
    "\n",
    "    sm = 0\n",
    "    for i in    range(1,       n+1) :\n",
    "        sm =     sm + (i * i)\n",
    "\n",
    "    return    sm\n",
    "\n",
    "\n",
    "n = 40\n",
    "print(squaresum(n))\n"
   ],
   "metadata": {
    "id": "U9rz42L-pr6B"
   },
   "execution_count": null,
   "outputs": []
  },
  {
   "cell_type": "code",
   "source": [
    "def square_sum(n):\n",
    "    \"\"\"\n",
    "    Calcula la suma de los cuadrados de los números del 1 al n.\n",
    "\n",
    "    Args:\n",
    "        n (int): El número hasta el cual se calculará la suma de los cuadrados.\n",
    "\n",
    "    Returns:\n",
    "        int: La suma de los cuadrados de los números del 1 al n.\n",
    "    \"\"\"\n",
    "    sm = 0\n",
    "    for i in range(1, n+1):\n",
    "        sm = sm + (i * i)\n",
    "    return sm\n",
    "\n",
    "\n",
    "# Definimos el valor de 'n'.\n",
    "n = 40\n",
    "\n",
    "# Llamamos a la función 'square_sum'\n",
    "# Para calcular la suma de los cuadrados y la imprimimos.\n",
    "resultado = square_sum(n)\n",
    "print(resultado)"
   ],
   "metadata": {
    "id": "M9o7pEAnoKqn",
    "ExecuteTime": {
     "end_time": "2023-09-03T21:19:37.085125Z",
     "start_time": "2023-09-03T21:19:36.636213133Z"
    }
   },
   "execution_count": 43,
   "outputs": [
    {
     "name": "stdout",
     "output_type": "stream",
     "text": [
      "22140\n"
     ]
    }
   ]
  },
  {
   "cell_type": "markdown",
   "source": [
    "## 14.\n",
    "Modifique el siguiente código para que se ajuste a las recomendaciones del PEP 8. Asigne nombres significativos a los elementos. Agregue comentarios y documentación en los casos que se requieran."
   ],
   "metadata": {
    "id": "_cen1BtjptHk"
   }
  },
  {
   "cell_type": "code",
   "source": [
    "def make_complex(*args):\n",
    "    x, y = args\n",
    "    return dict(**locals())\n",
    "\n",
    "print(make_complex(1,2))"
   ],
   "metadata": {
    "id": "XwNWj8_xpw8t",
    "ExecuteTime": {
     "end_time": "2023-09-03T21:02:17.771927645Z",
     "start_time": "2023-09-03T21:02:17.528608245Z"
    }
   },
   "execution_count": 3,
   "outputs": [
    {
     "name": "stdout",
     "output_type": "stream",
     "text": [
      "{'args': (1, 2), 'x': 1, 'y': 2}\n"
     ]
    }
   ]
  },
  {
   "cell_type": "code",
   "source": [
    "def make_complex(*args):\n",
    "    \"\"\"\n",
    "    Crea un diccionario con las variables locales x e y.\n",
    "\n",
    "    Args:\n",
    "        *args: Los argumentos para las variables x e y.\n",
    "\n",
    "    Returns:\n",
    "        dict: Un diccionario con las variables x e y.\n",
    "    \"\"\"\n",
    "    x, y = args\n",
    "    return dict(**locals())\n",
    "\n",
    "\n",
    "# Llamamos a la función make_complex con los argumentos 1 y 2\n",
    "# Mostramos el diccionario resultante.\n",
    "resultado = make_complex(1, 2)\n",
    "print(resultado)"
   ],
   "metadata": {
    "id": "lmbfpCv3oKBA",
    "ExecuteTime": {
     "end_time": "2023-09-03T21:20:32.722259951Z",
     "start_time": "2023-09-03T21:20:32.299388676Z"
    }
   },
   "execution_count": 46,
   "outputs": [
    {
     "name": "stdout",
     "output_type": "stream",
     "text": [
      "{'args': (1, 2), 'x': 1, 'y': 2}\n"
     ]
    }
   ]
  }
 ],
 "metadata": {
  "colab": {
   "provenance": [],
   "toc_visible": true,
   "include_colab_link": true
  },
  "kernelspec": {
   "display_name": "Python 3",
   "name": "python3"
  }
 },
 "nbformat": 4,
 "nbformat_minor": 0
}
