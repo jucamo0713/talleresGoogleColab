{
 "nbformat": 4,
 "nbformat_minor": 0,
 "metadata": {
  "colab": {
   "provenance": [],
   "toc_visible": true,
   "authorship_tag": "ABX9TyNDPEf7FVjTb2YnRBDM9Gpx",
   "include_colab_link": true
  },
  "kernelspec": {
   "name": "python3",
   "language": "python",
   "display_name": "Python 3 (ipykernel)"
  }
 },
 "cells": [
  {
   "cell_type": "markdown",
   "metadata": {
    "id": "view-in-github",
    "colab_type": "text"
   },
   "source": [
    "<a href=\"https://colab.research.google.com/github/gabrielawad/talleresGoogleColab/blob/main/Taller_06_NumPy.ipynb\" target=\"_parent\"><img src=\"https://colab.research.google.com/assets/colab-badge.svg\" alt=\"Open In Colab\"/></a>"
   ]
  },
  {
   "cell_type": "markdown",
   "source": [
    "## *«Un viaje de diez mil kilómetros empieza por un solo paso.»*\n",
    "### Proverbio chino"
   ],
   "metadata": {
    "id": "bDjqO634RdpU"
   }
  },
  {
   "cell_type": "markdown",
   "metadata": {
    "id": "mCkyuX8p2SYu"
   },
   "source": [
    "# Taller 06 NumPy\n",
    "En este taller aprenderá los conceptos básicos de Python 3 relativos a la librería NumPy.\n",
    "\n",
    "NumPy  **no es una librería nativa** de Python por lo que **requiere ser instalada antes de ser invocada**. Sin embargo, esta librería sí está preinstalada en Google Colaboratory por lo que basta invocarla para poder usar sus funcionalidades.\n",
    "\n",
    "Puede consultar mayor información en: [NumPy](https://numpy.org/)"
   ]
  },
  {
   "cell_type": "markdown",
   "source": [
    "# Referencias\n",
    "\n",
    "Este taller se basa en información e ideas recopiladas de las siguientes fuentes:\n",
    "\n",
    "*   [NumPy documentation](https://numpy.org/doc/stable/)\n",
    "*   [NumPy user guide](https://numpy.org/doc/stable/user/index.html#user)\n",
    "*   [NumPy Reference](https://docs.scipy.org/doc/numpy-1.10.1/reference/index.html)\n",
    "*   [NumPy in Python](https://www.geeksforgeeks.org/numpy-in-python-set-1-introduction/?ref=gcse)\n",
    "*   [Learn NumPy Library In Python – Complete Guide](https://thispointer.com/numpy-array-tutorials/)\n",
    "*   [Python NumPy – Practice Exercises, Questions, and Solutions](https://www.geeksforgeeks.org/python-numpy-practice-exercises-questions-and-solutions/)\n",
    "*   [Python Programming And Numerical Methods: A Guide For Engineers And Scientists](https://pythonnumericalmethods.berkeley.edu/notebooks/Index.html)\n",
    "*   [From Python to Numpy](https://www.labri.fr/perso/nrougier/from-python-to-numpy/)\n",
    "*   [Learn NumPy : NumPy 50 exercises and solution](https://www.kaggle.com/code/themlphdstudent/learn-numpy-numpy-50-exercises-and-solution)\n",
    "*   [Problem solving with Python: Review questions](https://problemsolvingwithpython.com/05-NumPy-and-Arrays/05.10-Review-Questions/)\n",
    "*   [Learn NumPy Library In Python – Complete Guide](https://thispointer.com/numpy-array-tutorials/)\n",
    "\n"
   ],
   "metadata": {
    "id": "FTDh-4lycSo8"
   }
  },
  {
   "cell_type": "markdown",
   "metadata": {
    "id": "nAvJW9yanlw-"
   },
   "source": [
    "# Matrices en Python\n",
    "\n",
    "También conocidas como listas de listas, las matrices permiten un manejo de datos mucho más eficiente que usando otro tipo de aproximación. A continuación, se muestra cómo crear y usar una matriz.\n",
    "\n",
    "Nota: en Python las matrices (listas de listas) son identificadas por un numero de filas (cuantas listas contiene) y columnas (cada lista dentro de la lista principal cuantas posiciones tiene), estas a su vez tienen un identificador llamado \"índice\" el cual comienza desde el 0. La primera fila será identificada con el índice 0, y así sucesivamente."
   ]
  },
  {
   "cell_type": "markdown",
   "metadata": {
    "id": "PsByMdHUAqZr"
   },
   "source": [
    "## Conceptos básicos de matrices en Python"
   ]
  },
  {
   "cell_type": "code",
   "metadata": {
    "id": "4SzKRQyWnlw_",
    "ExecuteTime": {
     "end_time": "2023-08-28T19:21:09.367346010Z",
     "start_time": "2023-08-28T19:21:09.257210122Z"
    }
   },
   "source": [
    "# Crear una matriz de tres filas y cuatro columnas\n",
    "m = [[2, 6, 2, 5], [8, 3, 7, 3], [5, 8, 1, 2]]\n",
    "\n",
    "# Mostrar la matriz m\n",
    "print(f\"Esta es la matriz m: \\n {m}\")\n",
    "\n",
    "# Mostrar una fila\n",
    "print(f\"Esta es la segunda fila de la matriz m: \\n {m[1]}\")\n",
    "\n",
    "# Mostrar un elemento de la matriz\n",
    "print(f\"Este es un elemento ubicado la posición 1,2 de la matriz m: \\\n",
    " \\n{m[1][2]}\")\n",
    "\n",
    "# Mostrar parte de los elementos de una fila\n",
    "print(f\"Estos son los elementos ubicados entre la columna 1\\\n",
    " y la columna 3 de la última fila de la matriz m: \\n {m[2][1:]}\")"
   ],
   "execution_count": 1,
   "outputs": [
    {
     "name": "stdout",
     "output_type": "stream",
     "text": [
      "Esta es la matriz m: \n",
      " [[2, 6, 2, 5], [8, 3, 7, 3], [5, 8, 1, 2]]\n",
      "Esta es la segunda fila de la matriz m: \n",
      " [8, 3, 7, 3]\n",
      "Este es un elemento ubicado la posición 1,2 de la matriz m:  \n",
      "7\n",
      "Estos son los elementos ubicados entre la columna 1 y la columna 3 de la última fila de la matriz m: \n",
      " [8, 1, 2]\n"
     ]
    }
   ]
  },
  {
   "cell_type": "markdown",
   "metadata": {
    "id": "fhnQch6FnlxK"
   },
   "source": [
    "# NumPy\n",
    "\n",
    "La librería [NumPy](https://numpy.org/) facilita las cosas al trabajar con grandes volúmenes de datos en Python 3."
   ]
  },
  {
   "cell_type": "markdown",
   "metadata": {
    "id": "vPfKP832v1lI"
   },
   "source": [
    "### Crear un arreglo unidimensional\n"
   ]
  },
  {
   "cell_type": "code",
   "metadata": {
    "id": "mOgOJmG7wAl9",
    "ExecuteTime": {
     "end_time": "2023-08-28T19:22:36.621087497Z",
     "start_time": "2023-08-28T19:22:35.979156888Z"
    }
   },
   "source": [
    "# Importar la librería NumPy bajo el nombre de 'np'\n",
    "import numpy as np\n",
    "\n",
    "# Conocer la versión instalada de NumPy\n",
    "print(\"La versión instalada de NumPy es: \", np.__version__, \"\\n\")\n",
    "\n",
    "# Crear un arreglo de una fila y una columna en NumPy\n",
    "'''importante: los paréntesis corresponden a la función que está siendo invocada,\n",
    "y los corchetes al objeto que está siendo creado.'''\n",
    "ejemplo_1 = np.array([1, 2, 3])\n",
    "#ejemplo_2 = np.array(1,2,3)\n",
    "#ejemplo_3 = np.array[1,2,3]\n",
    "\n",
    "print(f\"Este es el arreglo ejemplo_1: {ejemplo_1}\\n\")\n",
    "print(f\"Esta es la última posición del arreglo ejemplo_1:{ejemplo_1[2]} \\n\")\n",
    "print(f\"Este es el tipo de ejemplo_1: {type(ejemplo_1)}\")\n",
    "\n",
    "# Obtener información sobre np.array por medio de la función help()\n",
    "#help(np.array)"
   ],
   "execution_count": 2,
   "outputs": [
    {
     "name": "stdout",
     "output_type": "stream",
     "text": [
      "La versión instalada de NumPy es:  1.23.5 \n",
      "\n",
      "Este es el arreglo ejemplo_1: [1 2 3]\n",
      "\n",
      "Esta es la última posición del arreglo ejemplo_1:3 \n",
      "\n",
      "Este es el tipo de ejemplo_1: <class 'numpy.ndarray'>\n"
     ]
    }
   ]
  },
  {
   "cell_type": "markdown",
   "metadata": {
    "id": "nOwQMTsfxGFL"
   },
   "source": [
    "### Crear un arreglo de dos dimensiones"
   ]
  },
  {
   "cell_type": "code",
   "metadata": {
    "id": "z_HxGQhcxL2x"
   },
   "source": [
    "# Importar la librería NumPy bajo el nombre de 'np'\n",
    "import numpy as np\n",
    "\n",
    "# Crear un arreglo de tres filas y cuatro columnas en NumPy\n",
    "matriz_1 = np.array([[2, 6, 2, 5], [8, 3, 7, 3], [5, 8, 1, 2]])\n",
    "print(f\"Esta es la matriz matriz_1: \\n {matriz_1}\")\n"
   ],
   "execution_count": null,
   "outputs": []
  },
  {
   "cell_type": "markdown",
   "metadata": {
    "id": "GT7FFuwGyveN"
   },
   "source": [
    "### Atributos de un arreglo de NumPy"
   ]
  },
  {
   "cell_type": "code",
   "metadata": {
    "id": "KzJ5zY6ty0e8"
   },
   "source": [
    "# Importar la librería NumPy bajo el nombre de 'np'\n",
    "import numpy as np\n",
    "\n",
    "# Crear un arreglo de tres filas y cuatro columnas en NumPy\n",
    "matriz_1 = np.array([[2, 6, 2, 5], [8, 3, 7, 3], [5, 8, 1, 2]])\n",
    "print(f\"Esta es la matriz matriz_1: \\n {matriz_1}\")\n",
    "\n",
    "print(f\"La forma del arreglo matriz_1 es: {matriz_1.shape} \\n\")\n",
    "\n",
    "print(f\"La dimensión del arreglo matriz_1 es: {matriz_1.ndim} \\n\")\n",
    "\n",
    "print(f\"El arreglo matriz_1 tiene {matriz_1.shape[0]} \\\n",
    "filas y {matriz_1.shape[1]} columnas.\")"
   ],
   "execution_count": null,
   "outputs": []
  },
  {
   "cell_type": "markdown",
   "metadata": {
    "id": "eoJ-_SJM1TVK"
   },
   "source": [
    "### Cambiar la forma de un arreglo en NumPy"
   ]
  },
  {
   "cell_type": "code",
   "metadata": {
    "id": "PCIuc7wn1diu"
   },
   "source": [
    "# Importar la librería NumPy bajo el nombre de 'np'\n",
    "import numpy as np\n",
    "\n",
    "# Crear un arreglo de tres filas y cuatro columnas en NumPy\n",
    "matriz_1 = np.array([[2, 6, 2, 5], [8, 3, 7, 3], [5, 8, 1, 2]])\n",
    "print(f\"Esta es la matriz matriz_1: \\n {matriz_1}\")\n",
    "\n",
    "print(f\"La forma del arreglo matriz_1 es: {matriz_1.shape} \\n\")\n",
    "\n",
    "# Modificar la forma de un arreglo en NumPy\n",
    "matriz_1.shape = (6, 2)\n",
    "\n",
    "#matriz_1.shape =(2,6)\n",
    "#matriz_1.shape =(1,12)\n",
    "\n",
    "print(f\"Esta es el arreglo matriz_1 modificado:\\n {matriz_1} \\n\")\n",
    "\n",
    "print(matriz_1[0, 1])\n",
    "\n",
    "#print(matriz_1[1,4])"
   ],
   "execution_count": null,
   "outputs": []
  },
  {
   "cell_type": "markdown",
   "metadata": {
    "id": "8VqifPnzyMwO"
   },
   "source": [
    "### Crear arreglos especiales en NumPy"
   ]
  },
  {
   "cell_type": "code",
   "metadata": {
    "id": "20rAG6ONnlxL",
    "ExecuteTime": {
     "end_time": "2023-08-28T19:27:49.524760567Z",
     "start_time": "2023-08-28T19:27:49.299154856Z"
    }
   },
   "source": [
    "# Importar la librería NumPy bajo el nombre de 'np'\n",
    "import numpy as np\n",
    "\n",
    "# Crear un arreglo de longitud 5 con todas las posiciones iguales a cero\n",
    "a1 = np.zeros(5, dtype=int)\n",
    "print(\"Arreglo de longitud cinco con todas las posiciones iguales a cero: \\n\",\n",
    "      a1)\n",
    "# Crear una arreglo de dimensión 4x3 con todas las posiciones iguales a uno\n",
    "a2 = np.ones((4, 3), dtype=float)\n",
    "print(\"Arreglo de  dimensión 4x3 con todas las posiciones iguales a uno: \\n\",\n",
    "      a2)\n",
    "\n",
    "# Crear una arreglo de dimensión 4x5 con todas las posiciones iguales a 13\n",
    "a3 = np.full((4, 5), 13)\n",
    "print(\"Arreglo de de dimensión 4x5 con todas las posiciones iguales a 13: \\n\",\n",
    "      a3)\n",
    "\n",
    "# Crear una arreglo de dimensión 2x2 con todas las posiciones iguales a números\n",
    "# aleatorios  generados por una distribución normal de media igual a cero\n",
    "# y desviación estándar igual a 1\n",
    "a4 = np.random.normal(0, 1, (2, 2))\n",
    "print(\"Arreglo de dimensión 2x2 con todas las posiciones iguales a números\\\n",
    " aleatorios  generados por una distribución normal de media igual a cero y \\\n",
    " desviación estándar igual a 1: \\n\", a4)\n",
    "\n",
    "# Crear un arreglo de dimensión 4x4 con todas las posiciones iguales a números\n",
    "# aleatorios enteros en el intervalo (50,100) generados por una distribución\n",
    "# uniforme\n",
    "a5 = np.random.randint(50, 100, (4, 4))\n",
    "print(\"Arreglo de dimensión 4x4 con todas las posiciones iguales a números\\\n",
    " aleatorios en el intervalo (50,100) generados por una distribución uniforme: \\\n",
    " \\n\", a5)\n",
    "\n",
    "# Crear una matriz identidad de dimensión 5x5\n",
    "a6 = np.identity(5)\n",
    "print(\"Matriz identidad de dimensión 5x5: \\n\", a6)\n",
    "\n",
    "# Crear un arreglo de booleanos de dimensión 3x3\n",
    "a7 = np.full((3, 3), True, dtype=bool)\n",
    "print(\"Arreglo de booleanos de dimensión 3x3: \\n\", a7)"
   ],
   "execution_count": 6,
   "outputs": [
    {
     "name": "stdout",
     "output_type": "stream",
     "text": [
      "Arreglo de longitud cinco con todas las posiciones iguales a cero: \n",
      " [0 0 0 0 0]\n",
      "Arreglo de  dimensión 4x3 con todas las posiciones iguales a uno: \n",
      " [[1. 1. 1.]\n",
      " [1. 1. 1.]\n",
      " [1. 1. 1.]\n",
      " [1. 1. 1.]]\n",
      "Arreglo de de dimensión 4x5 con todas las posiciones iguales a 13: \n",
      " [[13 13 13 13 13]\n",
      " [13 13 13 13 13]\n",
      " [13 13 13 13 13]\n",
      " [13 13 13 13 13]]\n",
      "Arreglo de dimensión 2x2 con todas las posiciones iguales a números aleatorios  generados por una distribución normal de media igual a cero y  desviación estándar igual a 1: \n",
      " [[ 0.39210293 -1.28288931]\n",
      " [ 0.20656272  0.23766342]]\n",
      "Arreglo de dimensión 4x4 con todas las posiciones iguales a números aleatorios en el intervalo (50,100) generados por una distribución uniforme:  \n",
      " [[70 65 64 96]\n",
      " [53 84 76 88]\n",
      " [50 61 52 99]\n",
      " [88 96 88 95]]\n",
      "Matriz identidad de dimensión 5x5: \n",
      " [[1. 0. 0. 0. 0.]\n",
      " [0. 1. 0. 0. 0.]\n",
      " [0. 0. 1. 0. 0.]\n",
      " [0. 0. 0. 1. 0.]\n",
      " [0. 0. 0. 0. 1.]]\n",
      "Arreglo de booleanos de dimensión 3x3: \n",
      " [[ True  True  True]\n",
      " [ True  True  True]\n",
      " [ True  True  True]]\n"
     ]
    }
   ]
  },
  {
   "cell_type": "markdown",
   "metadata": {
    "id": "CJOrRBf9nlxV"
   },
   "source": [
    "### Transformaciones de un arreglo con NumPy"
   ]
  },
  {
   "cell_type": "code",
   "metadata": {
    "id": "oJj_vrFbnlxW",
    "ExecuteTime": {
     "end_time": "2023-08-28T19:27:52.410007746Z",
     "start_time": "2023-08-28T19:27:52.174503093Z"
    }
   },
   "source": [
    "# importar la librería NumPy bajo el nombre de 'np'\n",
    "import numpy as np\n",
    "\n",
    "# Crear un arreglo de tres filas y tres columnas\n",
    "A2 = np.array([[4, 6, 2], [7, 2, 1], [1, 2, -2]])\n",
    "print(\"Esta es el arreglo A2: \\n\", A2)\n",
    "\n",
    "print(\"Transpuesta de A2:\\n\", A2.T)\n",
    "\n",
    "print(\"Triangular superior de A2:\\n\", np.triu(A2))\n",
    "\n",
    "print(\"Maximo valor en A2:\\n\", A2.max())\n",
    "\n",
    "print(\"La suma de los elementos de A2 es: \\n\", A2.sum())"
   ],
   "execution_count": 7,
   "outputs": [
    {
     "name": "stdout",
     "output_type": "stream",
     "text": [
      "Esta es el arreglo A2: \n",
      " [[ 4  6  2]\n",
      " [ 7  2  1]\n",
      " [ 1  2 -2]]\n",
      "Transpuesta de A2:\n",
      " [[ 4  7  1]\n",
      " [ 6  2  2]\n",
      " [ 2  1 -2]]\n",
      "Triangular superior de A2:\n",
      " [[ 4  6  2]\n",
      " [ 0  2  1]\n",
      " [ 0  0 -2]]\n",
      "Maximo valor en A2:\n",
      " 7\n",
      "La suma de los elementos de A2 es: \n",
      " 23\n"
     ]
    }
   ]
  },
  {
   "cell_type": "markdown",
   "metadata": {
    "id": "rc26ZhB5nlxR"
   },
   "source": [
    "### Operaciones con arreglos utilizando NumPy\n",
    "\n",
    "A continuación se presenta la forma de realizar las operaciones básicas con arreglos utilizando NumPy.\n",
    "\n",
    "**Nota:**\n",
    "\n",
    "Un array de NumPy puede tener «N» dimensiones."
   ]
  },
  {
   "cell_type": "code",
   "metadata": {
    "id": "bqUt4Jk3nlxT",
    "ExecuteTime": {
     "end_time": "2023-08-28T19:34:28.450338783Z",
     "start_time": "2023-08-28T19:34:28.166152262Z"
    }
   },
   "source": [
    "# Importar la librería NumPy bajo el nombre de 'np'\n",
    "import numpy as np\n",
    "\n",
    "A2 = np.array([[4, 6], [7, 2], [0, 2]])\n",
    "B2 = np.array([[6, 3, 2], [1, 1, 1]])\n",
    "C2 = np.array([[2, 4, 6], [1, 2, 3], [5, 7, 2], [1, 0, 2]])\n",
    "D2 = np.array([[1, 2, 1], [3, 4, 5], [6, 3, 2], [1, 1, 1]])\n",
    "\n",
    "print(f\"Multiplicación por escalar: 2*B\\n{2 * B2}\\n\")\n",
    "\n",
    "print(f\"Suma: C+D\\n {C2 + D2}\\n\")\n",
    "\n",
    "#print(f\"Multiplicación: A*B\\n{A2*B2}\\n\")\n",
    "\n",
    "print(f\"Multiplicación: A*B\\n{A2 * C2}\\n\")"
   ],
   "execution_count": 8,
   "outputs": [
    {
     "name": "stdout",
     "output_type": "stream",
     "text": [
      "Multiplicación por escalar: 2*B\n",
      "[[12  6  4]\n",
      " [ 2  2  2]]\n",
      "\n",
      "Suma: C+D\n",
      " [[ 3  6  7]\n",
      " [ 4  6  8]\n",
      " [11 10  4]\n",
      " [ 2  1  3]]\n"
     ]
    },
    {
     "ename": "ValueError",
     "evalue": "operands could not be broadcast together with shapes (3,2) (4,3) ",
     "output_type": "error",
     "traceback": [
      "\u001B[0;31m---------------------------------------------------------------------------\u001B[0m",
      "\u001B[0;31mValueError\u001B[0m                                Traceback (most recent call last)",
      "Cell \u001B[0;32mIn[8], line 15\u001B[0m\n\u001B[1;32m     11\u001B[0m \u001B[38;5;28mprint\u001B[39m(\u001B[38;5;124mf\u001B[39m\u001B[38;5;124m\"\u001B[39m\u001B[38;5;124mSuma: C+D\u001B[39m\u001B[38;5;130;01m\\n\u001B[39;00m\u001B[38;5;124m \u001B[39m\u001B[38;5;132;01m{\u001B[39;00mC2\u001B[38;5;250m \u001B[39m\u001B[38;5;241m+\u001B[39m\u001B[38;5;250m \u001B[39mD2\u001B[38;5;132;01m}\u001B[39;00m\u001B[38;5;130;01m\\n\u001B[39;00m\u001B[38;5;124m\"\u001B[39m)\n\u001B[1;32m     13\u001B[0m \u001B[38;5;66;03m#print(f\"Multiplicación: A*B\\n{A2*B2}\\n\")\u001B[39;00m\n\u001B[0;32m---> 15\u001B[0m \u001B[38;5;28mprint\u001B[39m(\u001B[38;5;124mf\u001B[39m\u001B[38;5;124m\"\u001B[39m\u001B[38;5;124mMultiplicación: A*B\u001B[39m\u001B[38;5;130;01m\\n\u001B[39;00m\u001B[38;5;132;01m{\u001B[39;00m\u001B[43mA2\u001B[49m\u001B[38;5;241;43m*\u001B[39;49m\u001B[43mC2\u001B[49m\u001B[38;5;132;01m}\u001B[39;00m\u001B[38;5;130;01m\\n\u001B[39;00m\u001B[38;5;124m\"\u001B[39m)\n",
      "\u001B[0;31mValueError\u001B[0m: operands could not be broadcast together with shapes (3,2) (4,3) "
     ]
    }
   ]
  },
  {
   "cell_type": "markdown",
   "source": [
    "### Seleccionar elementos que cumplan una determinada característica"
   ],
   "metadata": {
    "id": "DDurE6R_hyrI"
   }
  },
  {
   "cell_type": "code",
   "source": [
    "# importar la librería NumPy bajo el nombre de 'np'\n",
    "import numpy as np\n",
    "\n",
    "# Crear el arreglo\n",
    "arr_1 = np.array([0, 1, 2, 3, 4, 5, 6, 7, 8, 9])\n",
    "\n",
    "# Extraer todos los números impares de un arreglo\n",
    "z = arr_1[arr_1 % 2 == 1]\n",
    "\n",
    "# Mostrar el resultado\n",
    "print(f\"Los números impares de arr_1 son:\\n{z}\\n\")\n",
    "\n",
    "# Reemplazar los números de un arreglo que cumplen una condición\n",
    "arr_1[arr_1 % 2 == 0] = 22\n",
    "\n",
    "# Mostrar el resultado\n",
    "print(f\"El resultado de reemplazar los números pares de arr_1 por 22:\\n{arr_1}\\n\")\n",
    "\n",
    "# Reemplazar los números de un arreglo que cumplen una condición SIN afectar el arreglo original\n",
    "original = np.arange(15)\n",
    "\n",
    "nuevo = original.copy()\n",
    "nuevo[nuevo % 2 == 1] = 22\n",
    "\n",
    "# Mostrar el resultado\n",
    "print(f\"Arreglo original:\\n{original}\\n\")\n",
    "print(f\"Arreglo modificado:\\n{nuevo}\\n\")\n",
    "\n",
    "# Seleccionar elementos comunes a dos arreglos\n",
    "arr_2 = np.arange(10, 100, 5)\n",
    "arr_3 = np.arange(20)\n",
    "# Encontrar los elementos comunes\n",
    "comunes = np.intersect1d(arr_2, arr_3)\n",
    "\n",
    "print(f\"Los arreglos iniciales son: \\n{arr_2}\\n y {arr_3}\\n\")\n",
    "\n",
    "print(f\"Los elementos comunes son: \\n{comunes}\\n\")\n",
    "\n",
    "# Remover los elementos de un arreglo que están presentes en otro\n",
    "arr_4 = np.setdiff1d(arr_2, arr_3)\n",
    "\n",
    "print(f\"Los elementos que están en arr_2 y no están en arr_3 : \\n{arr_4}\\n\")\n",
    "\n",
    "# Encontrar las posiciones en que dos arreglos coinciden\n",
    "arr_5 = np.array([1, 2, 3, 2, 3, 4, 3, 4, 5, 6])\n",
    "arr_6 = np.array([7, 2, 10, 2, 7, 4, 9, 4, 9, 8])\n",
    "\n",
    "arr_7 = np.where(arr_5 == arr_6)\n",
    "\n",
    "# Mostrar resultado\n",
    "print(arr_5)\n",
    "print(arr_6)\n",
    "print(f\"Las posiciones que tienen valores comunes son : \\n{arr_7}\\n\")"
   ],
   "metadata": {
    "id": "cgORZyy1hzXq",
    "ExecuteTime": {
     "end_time": "2023-08-28T19:40:25.215564222Z",
     "start_time": "2023-08-28T19:40:24.932797270Z"
    }
   },
   "execution_count": 12,
   "outputs": [
    {
     "name": "stdout",
     "output_type": "stream",
     "text": [
      "Los números impares de arr_1 son:\n",
      "[1 3 5 7 9]\n",
      "\n",
      "El resultado de reemplazar los números pares de arr_1 por 22:\n",
      "[22  1 22  3 22  5 22  7 22  9]\n",
      "\n",
      "Arreglo original:\n",
      "[ 0  1  2  3  4  5  6  7  8  9 10 11 12 13 14]\n",
      "\n",
      "Arreglo modificado:\n",
      "[ 0 22  2 22  4 22  6 22  8 22 10 22 12 22 14]\n",
      "\n",
      "[10 15 20 25 30 35 40 45 50 55 60 65 70 75 80 85 90 95]\n",
      "Los arreglos iniciales son: \n",
      "[10 15 20 25 30 35 40 45 50 55 60 65 70 75 80 85 90 95]\n",
      " y [ 0  1  2  3  4  5  6  7  8  9 10 11 12 13 14 15 16 17 18 19]\n",
      "\n",
      "Los elementos comunes son: \n",
      "[10 15]\n",
      "\n",
      "Los elementos que están en arr_2 y no están en arr_3 : \n",
      "[20 25 30 35 40 45 50 55 60 65 70 75 80 85 90 95]\n",
      "\n",
      "[1 2 3 2 3 4 3 4 5 6]\n",
      "[ 7  2 10  2  7  4  9  4  9  8]\n",
      "Las posiciones que tienen valores comunes son : \n",
      "(array([1, 3, 5, 7]),)\n"
     ]
    }
   ]
  },
  {
   "cell_type": "markdown",
   "source": [
    "### Unir arreglos de forma horizontal y vertical dos arreglos\n",
    "\n"
   ],
   "metadata": {
    "id": "u2KW_i-8TxS1"
   }
  },
  {
   "cell_type": "code",
   "source": [
    "# Importar la librería requerida\n",
    "import numpy as np\n",
    "\n",
    "# Crear un arreglo de dimensión 4x3 con todas las posiciones iguales a ceros enteros\n",
    "arreglo_1 = np.zeros((4, 3), dtype=int)\n",
    "\n",
    "# Crear una arreglo de dimensión 4x3 con todas las posiciones iguales a uno reales\n",
    "arreglo_2 = np.ones((4, 3), dtype=float)\n",
    "\n",
    "print(arreglo_1, arreglo_2, sep=\"\\n\\n\")\n",
    "\n",
    "# Juntar los dos arreglos de forma horizontal\n",
    "arreglo_horizontal = np.hstack([arreglo_1, arreglo_2])\n",
    "print(\"\\nEl resultado de unir de forma horizontal arreglo_1 y arreglo_2 es: \\n\", arreglo_horizontal, \"\\n\")\n",
    "\n",
    "# Juntas los dos arreglos de forma vertical\n",
    "arreglo_vertical = np.vstack([arreglo_1, arreglo_2])\n",
    "print(\"El resultado de unir de forma vertical arreglo_1 y arreglo_2 es: \\n\", arreglo_vertical)"
   ],
   "metadata": {
    "id": "_JBLayQcUsJh",
    "ExecuteTime": {
     "end_time": "2023-08-28T19:42:47.467399324Z",
     "start_time": "2023-08-28T19:42:47.138090690Z"
    }
   },
   "execution_count": 13,
   "outputs": [
    {
     "name": "stdout",
     "output_type": "stream",
     "text": [
      "[[0 0 0]\n",
      " [0 0 0]\n",
      " [0 0 0]\n",
      " [0 0 0]]\n",
      "\n",
      "[[1. 1. 1.]\n",
      " [1. 1. 1.]\n",
      " [1. 1. 1.]\n",
      " [1. 1. 1.]]\n",
      "\n",
      "El resultado de unir de forma horizontal arreglo_1 y arreglo_2 es: \n",
      " [[0. 0. 0. 1. 1. 1.]\n",
      " [0. 0. 0. 1. 1. 1.]\n",
      " [0. 0. 0. 1. 1. 1.]\n",
      " [0. 0. 0. 1. 1. 1.]] \n",
      "\n",
      "El resultado de unir de forma vertical arreglo_1 y arreglo_2 es: \n",
      " [[0. 0. 0.]\n",
      " [0. 0. 0.]\n",
      " [0. 0. 0.]\n",
      " [0. 0. 0.]\n",
      " [1. 1. 1.]\n",
      " [1. 1. 1.]\n",
      " [1. 1. 1.]\n",
      " [1. 1. 1.]]\n"
     ]
    }
   ]
  },
  {
   "cell_type": "markdown",
   "metadata": {
    "id": "CPxzGh5O_ROA"
   },
   "source": [
    "# Aplicaciones"
   ]
  },
  {
   "cell_type": "markdown",
   "metadata": {
    "id": "ACAHDfF7JaMW"
   },
   "source": [
    "### Crear un archivo de números aleatorios racionales"
   ]
  },
  {
   "cell_type": "code",
   "metadata": {
    "id": "dv1IY7VLJfna",
    "ExecuteTime": {
     "end_time": "2023-08-28T19:44:09.629150282Z",
     "start_time": "2023-08-28T19:44:09.315890002Z"
    }
   },
   "source": [
    "# Importar las librerías requeridas\n",
    "import numpy as np\n",
    "import google.colab.files as fl\n",
    "\n",
    "# Generar los números racionales y guardarlos en un archivo\n",
    "with open(\"racionales.txt\", \"w\") as numeros:\n",
    "    for i in range(50000):\n",
    "        numeros.write(str(np.random.normal(1000, 500)) + \"\\n\")\n",
    "\n",
    "# Descargar el archivo en el pc\n",
    "fl.download(\"racionales.txt\")"
   ],
   "execution_count": 14,
   "outputs": [
    {
     "ename": "ModuleNotFoundError",
     "evalue": "No module named 'google.colab'",
     "output_type": "error",
     "traceback": [
      "\u001B[0;31m---------------------------------------------------------------------------\u001B[0m",
      "\u001B[0;31mModuleNotFoundError\u001B[0m                       Traceback (most recent call last)",
      "Cell \u001B[0;32mIn[14], line 3\u001B[0m\n\u001B[1;32m      1\u001B[0m \u001B[38;5;66;03m# Importar las librerías requeridas\u001B[39;00m\n\u001B[1;32m      2\u001B[0m \u001B[38;5;28;01mimport\u001B[39;00m \u001B[38;5;21;01mnumpy\u001B[39;00m \u001B[38;5;28;01mas\u001B[39;00m \u001B[38;5;21;01mnp\u001B[39;00m\n\u001B[0;32m----> 3\u001B[0m \u001B[38;5;28;01mimport\u001B[39;00m \u001B[38;5;21;01mgoogle\u001B[39;00m\u001B[38;5;21;01m.\u001B[39;00m\u001B[38;5;21;01mcolab\u001B[39;00m\u001B[38;5;21;01m.\u001B[39;00m\u001B[38;5;21;01mfiles\u001B[39;00m \u001B[38;5;28;01mas\u001B[39;00m \u001B[38;5;21;01mfl\u001B[39;00m\n\u001B[1;32m      5\u001B[0m \u001B[38;5;66;03m# Generar los números racionales y guardarlos en un archivo\u001B[39;00m\n\u001B[1;32m      6\u001B[0m \u001B[38;5;28;01mwith\u001B[39;00m \u001B[38;5;28mopen\u001B[39m(\u001B[38;5;124m\"\u001B[39m\u001B[38;5;124mracionales.txt\u001B[39m\u001B[38;5;124m\"\u001B[39m, \u001B[38;5;124m\"\u001B[39m\u001B[38;5;124mw\u001B[39m\u001B[38;5;124m\"\u001B[39m) \u001B[38;5;28;01mas\u001B[39;00m numeros:\n",
      "\u001B[0;31mModuleNotFoundError\u001B[0m: No module named 'google.colab'"
     ]
    }
   ]
  },
  {
   "cell_type": "markdown",
   "metadata": {
    "id": "Ka7_OzuKMDYW"
   },
   "source": [
    "### Crear un archivo de números aleatorios enteros"
   ]
  },
  {
   "cell_type": "code",
   "metadata": {
    "id": "eJ0KoY71MLEp"
   },
   "source": [
    "# Importar las librerías requeridas\n",
    "import numpy as np\n",
    "import google.colab.files as fl\n",
    "\n",
    "# Generar los números enteros y guardarlos en un archivo\n",
    "with open(\"enteros.txt\", \"w\") as numeros:\n",
    "    for i in range(10000):\n",
    "        # Números aleatorios enteros en el intervalo (1, 500) generados\n",
    "        #con una distribución uniforme\n",
    "        numeros.write(str(np.random.randint(1, 500)) + \"\\n\")\n",
    "\n",
    "# Descargar el archivo en el pc\n",
    "fl.download(\"enteros.txt\")"
   ],
   "execution_count": null,
   "outputs": []
  },
  {
   "cell_type": "markdown",
   "metadata": {
    "id": "8moQtfg2_WHS"
   },
   "source": [
    "### Solución de ecuaciones\n",
    "\n",
    "Puede consultar más información en: [Linear Algebra with NumPy](https://numpy.org/doc/stable/reference/routines.linalg.html)\n",
    "\n",
    "Resolver:\n",
    "\n",
    "3x + y = 9\n",
    "\n",
    "\n",
    "x + 2y = 8"
   ]
  },
  {
   "cell_type": "code",
   "metadata": {
    "id": "clmxkQNE_bhC",
    "ExecuteTime": {
     "end_time": "2023-08-28T19:45:02.052058615Z",
     "start_time": "2023-08-28T19:45:01.862964590Z"
    }
   },
   "source": [
    "# Importar la librería NumPy\n",
    "import numpy as np\n",
    "\n",
    "# Crear el arreglo a\n",
    "a = np.array([[3, 1], [1, 2]])\n",
    "\n",
    "# Crear el arreglo b\n",
    "b = np.array([9, 8])\n",
    "\n",
    "# Plantear y resolver el sistema de ecuaciones\n",
    "x = np.linalg.solve(a, b)\n",
    "\n",
    "# Mostrar la solución del sistema de ecuaciones\n",
    "print(x)"
   ],
   "execution_count": 15,
   "outputs": [
    {
     "name": "stdout",
     "output_type": "stream",
     "text": [
      "[2. 3.]\n"
     ]
    }
   ]
  },
  {
   "cell_type": "markdown",
   "source": [
    "# Ejercicios"
   ],
   "metadata": {
    "id": "_I6T-0Jkpd-R"
   }
  },
  {
   "cell_type": "markdown",
   "source": [
    "### 00\n",
    "Cree un arreglo de NumPy con los números 13, 27, 42, 96. Muestre por pantalla el arreglo, los dos últimos elementos del arreglo y el tipo del arreglo."
   ],
   "metadata": {
    "id": "0HiJ4TUJsHUz"
   }
  },
  {
   "cell_type": "code",
   "source": [
    "import numpy as np\n",
    "\n",
    "numbers = np.array([13, 27, 42, 96])\n",
    "print(numbers)\n",
    "print(numbers[-2:])\n",
    "print(type(numbers))"
   ],
   "metadata": {
    "id": "JyAtRQpAsIuX",
    "ExecuteTime": {
     "end_time": "2023-08-28T20:03:14.776256005Z",
     "start_time": "2023-08-28T20:03:14.566093699Z"
    }
   },
   "execution_count": 29,
   "outputs": [
    {
     "name": "stdout",
     "output_type": "stream",
     "text": [
      "[13 27 42 96]\n",
      "[42 96]\n",
      "<class 'numpy.ndarray'>\n"
     ]
    }
   ]
  },
  {
   "cell_type": "markdown",
   "source": [
    "### 01\n",
    "Cree un arreglo de NumPy con los números enteros entre -20 y 20. Muestre por pantalla el arreglo y los números pares del arreglo."
   ],
   "metadata": {
    "id": "FoyqgvSXs3JR"
   }
  },
  {
   "cell_type": "code",
   "source": [
    "import numpy as np\n",
    "\n",
    "numbers = np.arange(-20, 21)\n",
    "print(numbers)\n",
    "print(numbers[numbers % 2 == 0])"
   ],
   "metadata": {
    "id": "b164wmJEtGAs",
    "ExecuteTime": {
     "end_time": "2023-08-28T20:03:52.082264638Z",
     "start_time": "2023-08-28T20:03:51.836328324Z"
    }
   },
   "execution_count": 30,
   "outputs": [
    {
     "name": "stdout",
     "output_type": "stream",
     "text": [
      "[-20 -19 -18 -17 -16 -15 -14 -13 -12 -11 -10  -9  -8  -7  -6  -5  -4  -3\n",
      "  -2  -1   0   1   2   3   4   5   6   7   8   9  10  11  12  13  14  15\n",
      "  16  17  18  19  20]\n",
      "[-20 -18 -16 -14 -12 -10  -8  -6  -4  -2   0   2   4   6   8  10  12  14\n",
      "  16  18  20]\n"
     ]
    }
   ]
  },
  {
   "cell_type": "markdown",
   "source": [
    "### 02\n",
    "Cree un arreglo de NumPy con cinco ángulos igualmente espaciados entre 0 y 2π. Muestre por pantalla el arreglo y el valor medio del arreglo."
   ],
   "metadata": {
    "id": "vmi5jqp7seu_"
   }
  },
  {
   "cell_type": "code",
   "source": [
    "import math\n",
    "import numpy as np\n",
    "\n",
    "numbers = np.linspace(0, 2 * math.pi, 5)\n",
    "print(numbers)\n",
    "print(numbers.mean())"
   ],
   "metadata": {
    "id": "nHHGZD7ntnli",
    "ExecuteTime": {
     "end_time": "2023-08-28T20:28:58.459665795Z",
     "start_time": "2023-08-28T20:28:58.312637324Z"
    }
   },
   "execution_count": 50,
   "outputs": [
    {
     "name": "stdout",
     "output_type": "stream",
     "text": [
      "[0.         1.57079633 3.14159265 4.71238898 6.28318531]\n",
      "3.141592653589793\n"
     ]
    }
   ]
  },
  {
   "cell_type": "markdown",
   "source": [
    "### 03\n",
    "Cree un arreglo de NumPy con diez números enteros aleatorios entre 1 y 100. Muestre por pantalla el arreglo y los números impares del arreglo."
   ],
   "metadata": {
    "id": "IxTdbSVLtomF"
   }
  },
  {
   "cell_type": "code",
   "source": [
    "import numpy as np\n",
    "\n",
    "numbers = np.random.randint(1, 100, size=10)\n",
    "print(numbers)\n",
    "print(numbers[numbers % 2 == 1])"
   ],
   "metadata": {
    "id": "D2Yfw3Y0udZt",
    "ExecuteTime": {
     "end_time": "2023-08-28T20:16:14.985648902Z",
     "start_time": "2023-08-28T20:16:14.755250227Z"
    }
   },
   "execution_count": 37,
   "outputs": [
    {
     "name": "stdout",
     "output_type": "stream",
     "text": [
      "[21 13 27 67 59 77 89 74 13 13]\n",
      "[21 13 27 67 59 77 89 13 13]\n"
     ]
    }
   ]
  },
  {
   "cell_type": "markdown",
   "source": [
    "### 04\n",
    "Cree un arreglo de NumPy con veinte números logarítmicos igualmente espaciados utilizando la función **np.logspace()** . Muestre por pantalla el arreglo."
   ],
   "metadata": {
    "id": "sJATPPA0ujwg"
   }
  },
  {
   "cell_type": "code",
   "source": [
    "import numpy as np\n",
    "\n",
    "# Crear un arreglo de 20 números logarítmicos igualmente espaciados\n",
    "numbers = np.logspace(start=1, stop=3, num=20, base=10)\n",
    "\n",
    "# Mostrar el arreglo por pantalla\n",
    "print(numbers)\n"
   ],
   "metadata": {
    "id": "xgPdVTUPvCm9",
    "ExecuteTime": {
     "end_time": "2023-08-28T20:22:55.317423895Z",
     "start_time": "2023-08-28T20:22:55.218183803Z"
    }
   },
   "execution_count": 41,
   "outputs": [
    {
     "name": "stdout",
     "output_type": "stream",
     "text": [
      "[  10.           12.74274986   16.23776739   20.69138081   26.36650899\n",
      "   33.59818286   42.81332399   54.55594781   69.51927962   88.58667904\n",
      "  112.88378917  143.84498883  183.29807108  233.57214691  297.63514416\n",
      "  379.26901907  483.29302386  615.84821107  784.75997035 1000.        ]\n"
     ]
    }
   ]
  },
  {
   "cell_type": "markdown",
   "source": [
    "### 05\n",
    "Cree un arreglo de NumPy con veinte números aleatorios con una distribución normal de media igual 5.0 y desviación típica 1.5. Muestre por pantalla el arreglo y los valores máximos y mínimos del arreglo."
   ],
   "metadata": {
    "id": "5LMZBQhfueaG"
   }
  },
  {
   "cell_type": "code",
   "source": [
    "import numpy as np\n",
    "\n",
    "numbers = np.random.normal(5, 1.5, size=20)\n",
    "print(numbers)"
   ],
   "metadata": {
    "id": "xVQy1QpTvmtG",
    "ExecuteTime": {
     "end_time": "2023-08-28T20:24:27.776418753Z",
     "start_time": "2023-08-28T20:24:27.705971714Z"
    }
   },
   "execution_count": 43,
   "outputs": [
    {
     "name": "stdout",
     "output_type": "stream",
     "text": [
      "[5.49906788 9.46845569 2.85015324 5.45400178 6.81326824 5.19103891\n",
      " 4.74233573 2.6807786  2.65885689 6.01438952 7.98434535 5.48687373\n",
      " 5.74537717 5.41889303 3.1441324  3.51343586 6.3019201  6.83985403\n",
      " 5.80604323 5.09526471]\n"
     ]
    }
   ]
  },
  {
   "cell_type": "markdown",
   "source": [
    "### 06\n",
    "Cree un arreglo de NumPy con 100 números igualmente espaciados entre 0 y 180. Luego generar otro arreglo cuyos elementos sean el seno de los elementos del primer arreglo multiplicados por tres. Muestre por pantalla ambos arreglos."
   ],
   "metadata": {
    "id": "VcyHmpVHvn2G"
   }
  },
  {
   "cell_type": "code",
   "source": [
    "import numpy as np\n",
    "\n",
    "numbers = np.linspace(0, 180, 100)\n",
    "print(numbers)\n",
    "print(np.sin(numbers) * 3)"
   ],
   "metadata": {
    "id": "PL4whSXOwvoJ",
    "ExecuteTime": {
     "end_time": "2023-08-28T20:34:53.280253240Z",
     "start_time": "2023-08-28T20:34:53.142816642Z"
    }
   },
   "execution_count": 59,
   "outputs": [
    {
     "name": "stdout",
     "output_type": "stream",
     "text": [
      "[  0.           1.81818182   3.63636364   5.45454545   7.27272727\n",
      "   9.09090909  10.90909091  12.72727273  14.54545455  16.36363636\n",
      "  18.18181818  20.          21.81818182  23.63636364  25.45454545\n",
      "  27.27272727  29.09090909  30.90909091  32.72727273  34.54545455\n",
      "  36.36363636  38.18181818  40.          41.81818182  43.63636364\n",
      "  45.45454545  47.27272727  49.09090909  50.90909091  52.72727273\n",
      "  54.54545455  56.36363636  58.18181818  60.          61.81818182\n",
      "  63.63636364  65.45454545  67.27272727  69.09090909  70.90909091\n",
      "  72.72727273  74.54545455  76.36363636  78.18181818  80.\n",
      "  81.81818182  83.63636364  85.45454545  87.27272727  89.09090909\n",
      "  90.90909091  92.72727273  94.54545455  96.36363636  98.18181818\n",
      " 100.         101.81818182 103.63636364 105.45454545 107.27272727\n",
      " 109.09090909 110.90909091 112.72727273 114.54545455 116.36363636\n",
      " 118.18181818 120.         121.81818182 123.63636364 125.45454545\n",
      " 127.27272727 129.09090909 130.90909091 132.72727273 134.54545455\n",
      " 136.36363636 138.18181818 140.         141.81818182 143.63636364\n",
      " 145.45454545 147.27272727 149.09090909 150.90909091 152.72727273\n",
      " 154.54545455 156.36363636 158.18181818 160.         161.81818182\n",
      " 163.63636364 165.45454545 167.27272727 169.09090909 170.90909091\n",
      " 172.72727273 174.54545455 176.36363636 178.18181818 180.        ]\n",
      "[ 0.          2.90866785 -1.42449033 -2.21103827  2.50732372  0.98310213\n",
      " -2.98878793  0.4806262   2.75340616 -1.82907871 -1.85763357  2.73883575\n",
      "  0.51631677 -2.99169661  0.94883605  2.52701386 -2.18641524 -1.45623935\n",
      "  2.89959357  0.03619305 -2.91731875  1.39253397  2.23533948 -2.48726862\n",
      " -1.01722511  2.98544422 -0.44486566 -2.76757581  1.80025761  1.88591805\n",
      " -2.72386669 -0.5519322   2.99416984 -0.91443186 -2.54633619  2.16147397\n",
      "  1.48777641 -2.89009725 -0.07238084  2.92554503 -1.36037492 -2.25931533\n",
      "  2.4668515   1.05120003 -2.98166596  0.40904038  2.78134262 -1.77117448\n",
      " -1.91392803  2.70850116  0.58746728 -2.99620726  0.87989458  2.56528788\n",
      " -2.13621809 -1.51909692  2.88018027  0.10855809 -2.93334548  1.32801786\n",
      "  2.28296232 -2.44607531 -1.08502195  2.97745371 -0.37315556 -2.7947046\n",
      "  1.74183355  1.94165943 -2.6927414  -0.62291686  2.99780856 -0.84522922\n",
      " -2.5838662   2.11065127  1.55019632 -2.86984406 -0.14471954  2.94071898\n",
      " -1.29546751 -2.30627702  2.42494309  1.11868594 -2.97280809  0.33721642\n",
      "  2.80765979 -1.71223909 -1.96910821  2.6765897   0.65827578 -2.99897353\n",
      "  0.81044084  2.60206841 -2.08477724 -1.58107008  2.85909014  0.18085993\n",
      " -2.94766444  1.26272859  2.32925603 -2.40345791]\n"
     ]
    }
   ]
  },
  {
   "cell_type": "markdown",
   "source": [
    "### 07\n",
    "Cree un arreglo de NumPy con diez números aleatorios (una fila, diez columnas). Convertir ese arreglo en otro arreglo de diez filas y una columna; y luego convertir el arreglo en uno de cinco filas y dos columnas. Muestre por pantalla los tres arreglos."
   ],
   "metadata": {
    "id": "id7zHlX5w_O3"
   }
  },
  {
   "cell_type": "code",
   "source": [
    "import numpy as np\n",
    "\n",
    "numbers = np.random.random(size=10)\n",
    "\n",
    "print(numbers)\n",
    "numbers1 = numbers.copy()\n",
    "numbers1.shape = (10, 1)\n",
    "print(numbers)\n",
    "numbers2 = numbers.copy()\n",
    "numbers2.shape = (5, 2)\n",
    "print(numbers)"
   ],
   "metadata": {
    "id": "Dz-nRIHXx4RF",
    "ExecuteTime": {
     "end_time": "2023-08-28T20:38:30.957471240Z",
     "start_time": "2023-08-28T20:38:30.893093066Z"
    }
   },
   "execution_count": 62,
   "outputs": [
    {
     "name": "stdout",
     "output_type": "stream",
     "text": [
      "[0.30192791 0.1329291  0.73264696 0.47136967 0.51177422 0.3827721\n",
      " 0.42731943 0.68658509 0.77380616 0.15320675]\n",
      "[[0.30192791]\n",
      " [0.1329291 ]\n",
      " [0.73264696]\n",
      " [0.47136967]\n",
      " [0.51177422]\n",
      " [0.3827721 ]\n",
      " [0.42731943]\n",
      " [0.68658509]\n",
      " [0.77380616]\n",
      " [0.15320675]]\n",
      "[[0.30192791 0.1329291 ]\n",
      " [0.73264696 0.47136967]\n",
      " [0.51177422 0.3827721 ]\n",
      " [0.42731943 0.68658509]\n",
      " [0.77380616 0.15320675]]\n"
     ]
    }
   ]
  },
  {
   "cell_type": "markdown",
   "source": [
    "### 08\n",
    "Cree un arreglo de NumPy con 25 números en una sola fila. Luego convertir el arreglo en un arreglo **B** de cinco filas y cinco columnas.\n",
    "\n",
    "*  Seleccione la segunda fila de **B** y guárdela en otro arreglo **C**.\n",
    "*  Almacene el número de elementos de **C** en una variable.\n",
    "*  Genere la transpuesta de **B**\n",
    "*  Genere la transpuesta de **C**\n",
    "\n",
    "Muestre por pantalla todos los arreglos."
   ],
   "metadata": {
    "id": "eUSUoWZhx5Tf"
   }
  },
  {
   "cell_type": "code",
   "source": [
    "import numpy as np\n",
    "\n",
    "numbers = np.arange(0, 25)\n",
    "\n",
    "print(numbers)\n",
    "\n",
    "b = numbers.copy()\n",
    "b.shape = (5, 5)\n",
    "print(b)\n",
    "\n",
    "c = b[2]\n",
    "print(c)\n",
    "\n",
    "size_c = c.size\n",
    "print(size_c)\n",
    "b_t = b.T\n",
    "print(b_t)\n",
    "\n",
    "c_t = c.copy()\n",
    "c_t.shape = (5, 1)\n",
    "print(c_t)"
   ],
   "metadata": {
    "id": "MFnm0LSIzg3u",
    "ExecuteTime": {
     "end_time": "2023-08-28T20:50:03.561148467Z",
     "start_time": "2023-08-28T20:50:03.531513966Z"
    }
   },
   "execution_count": 69,
   "outputs": [
    {
     "name": "stdout",
     "output_type": "stream",
     "text": [
      "[ 0  1  2  3  4  5  6  7  8  9 10 11 12 13 14 15 16 17 18 19 20 21 22 23\n",
      " 24]\n",
      "[[ 0  1  2  3  4]\n",
      " [ 5  6  7  8  9]\n",
      " [10 11 12 13 14]\n",
      " [15 16 17 18 19]\n",
      " [20 21 22 23 24]]\n",
      "[10 11 12 13 14]\n",
      "5\n",
      "[[ 0  5 10 15 20]\n",
      " [ 1  6 11 16 21]\n",
      " [ 2  7 12 17 22]\n",
      " [ 3  8 13 18 23]\n",
      " [ 4  9 14 19 24]]\n",
      "[[10]\n",
      " [11]\n",
      " [12]\n",
      " [13]\n",
      " [14]]\n"
     ]
    }
   ]
  },
  {
   "cell_type": "markdown",
   "source": [
    "### 09\n",
    "Calcule todos los precios posibles de pisos que con longitudes de 2, 4, 6 y 8 metros y anchos de 1, 1.5 y 2 metros si el piso cuesta $32.19 por metro cuadrado. Almacene el resultado en una matriz 2D. Los largos deben aumentar de arriba hacia abajo y los anchos deben aumentar de izquierda a derecha."
   ],
   "metadata": {
    "id": "q9xv8bvMbv-0"
   }
  },
  {
   "cell_type": "code",
   "source": [
    "import numpy as np\n",
    "\n",
    "longitudes = np.array([2, 4, 6, 8])\n",
    "anchos = np.array([1, 1.5, 2])\n",
    "\n",
    "matriz_resultados = np.outer(anchos, longitudes)\n",
    "resultado = matriz_resultados * 32.19\n",
    "print(resultado)"
   ],
   "metadata": {
    "id": "rT87t_7Bb_Sw",
    "ExecuteTime": {
     "end_time": "2023-08-28T20:59:24.768240569Z",
     "start_time": "2023-08-28T20:59:24.734160403Z"
    }
   },
   "execution_count": 73,
   "outputs": [
    {
     "name": "stdout",
     "output_type": "stream",
     "text": [
      "[[ 64.38 128.76 193.14 257.52]\n",
      " [ 96.57 193.14 289.71 386.28]\n",
      " [128.76 257.52 386.28 515.04]]\n"
     ]
    }
   ]
  },
  {
   "cell_type": "markdown",
   "source": [
    "### 10\n",
    "Cree un arreglo **K** usando el siguiente código:\n",
    "\n",
    "K = np.random.randint(100, 500, 7*7).reshape(7, 7)\n",
    "\n",
    "K[2, 6] = 250\n",
    "\n",
    "* Extraiga todos los valores de **K** que sean mayores o iguales a 250 y guárdelos en un arreglo llamado **up250**\n",
    "`.\n",
    "\n",
    "* Extraiga todos los valores de **K** que sean menores que 250 y guárdelos en un arreglo llamado **down250**.\n",
    "\n",
    "* Encuentre, por medios computacionales, en qué columna y en qué fila se almacena el número 250 dentro de **K**."
   ],
   "metadata": {
    "id": "XnktVTrFcBAS"
   }
  },
  {
   "cell_type": "code",
   "source": [
    "import numpy as np\n",
    "\n",
    "K = np.random.randint(100, 500, 7 * 7).reshape(7, 7)\n",
    "\n",
    "K[2, 6] = 250\n",
    "\n"
   ],
   "metadata": {
    "id": "5btBotIWdjKq"
   },
   "execution_count": null,
   "outputs": []
  },
  {
   "cell_type": "markdown",
   "source": [
    "### 11\n",
    "Resuelva con NumPy el siguiente sistema de ecuaciones\n",
    "\n",
    "![image.png](data:image/png;base64,iVBORw0KGgoAAAANSUhEUgAAAMsAAAB9CAYAAAAMaJdbAAAAAXNSR0IArs4c6QAAAARnQU1BAACxjwv8YQUAAAAJcEhZcwAAEnQAABJ0Ad5mH3gAABEmSURBVHhe7Z0JlE7lH8d/iOwRWUu2Y1+KiITIVkqZVHYOSsQpleUIoVEkQ4kyJGvJVrYIh0pEZiKjhhhbGGPfGdv93+9v7h3vMGMeo3nfd97/93POc977PvfOzL3P83x/23NVOstGCCHJkt75JIQkA8VCiCEUCyGGUCyEGEKxEGIIxUKIIRQLIYZQLIQYQrEQYgjFQoghFAshhlAshBhCsRBiCMVCiCEUCyGGUCyEGEKxEGKIT8WCf6S5cOFCadasmezatcvpTZvExMTIyJEjpXbt2lK8eHFp0KCBfPbZZ9pPkub8+fMyaNAgGTBggFy8eNHpvQ7WRf/+/aVKlSo6rkFBQTJt2jQ5c+aMc4X38KlYoqKiZMKECXL16lWnJ22yc+dO6dGjhxQqVEi+++47+eGHH+Shhx6SkJAQadOmjfz+++/OlcQTGMvly5fLjBkznJ6EbNiwQd566y2pW7eurFy5UmbNmiX33nuvDB48WDp16uR1A+szscCiTJ48WSIjI52etAmeIzQ0VF544QVp3bq15M2bV8qUKaMTCiuICZ00aZIcO3bM+QniAmM5ceJE51tCDh8+LOPHj5e3335bGjdurCKpXr26BAcHS82aNSU8PFzXT2LeKLXwiVjc8GvFihWSLVs2pzdtsm/fPgkLC5Nx48apR3H/+x/Zs2eX559/Xo9hFTdt2qTHJI6zZ8/KF198kaQR+eeff2TNmjXywQcfyMaNG51ekQIFCkjTpk31GOMKr+4tfCKW7du3y6JFi+T999+XIkWKOL1pkwsXLsiRI0fkwIED8ttvv0lsbKxzRjQsK1u2rB6ndQ/6XwKDsnjxYsmUKZP07NnT6U3IyZMn9RNrZf369XrsUrp0af2E94F38hZeFwssCsKSF198UUqVKuX0Jg5c7JQpUzRZrlixorzzzjsa1vzxxx/y8ssvax+Sv+PHjzs/4X0wca+++qo0b95cw7DMmTM7Z+IWxbVr1/T4rrvu0k+wdetWadu2bZL3v2XLFunTp49EREQ4PYGFayyRd8ADJ8Zjjz0m7dq105yvRYsWTm8cnjluhgwZnKPUx6tiweKZM2eOZM2aVRo1auT0Jg5yAbjgU6dOyffffy+rVq2SEydOqEiGDRsm7777rowYMUL7cd5X4FlgHUeNGiXlypVzeuOIjo7WhYFQs3LlytqHsAHP9frrr6tnRdK6bNkyPQdgIGbPni1z587VZw808EzIRTCPJUqUcHpvBjnKkCFDdIwKFizo9Mbhhl4lS5aM9zLewKtigUVFntK+fXtdZLcC1125ckVeeeUVtT45cuTQQUOM+/TTT0vOnDk15oUr9kfgQV0RI/lH6RMWERb1ySeflEcffVT279+v5z2TVDwfBIbwDWFcUly6dEmNBsqpKWm4H8T83gTGcv78+ZIrVy6NFtKlS+ecMefQoUOyZMkSPYbHwbN4C6+JBRYFlY+WLVve0qIA1NBRUoQoXFHB0+zdu1etNCY6X7580rBhQ+natWt8Iu0vYFHA4/344496jygrIzzDRP/5559Sq1YtOXr0qJZG8Ryo8rjgmm3btknRokXlvvvuc3pvBvE+vCvC0pQ0hLJYsN7kdoxlYsDYwAAhN0QYixZwYRge8ttvv1XXivArOYsCL4Lq0uOPP+70iBw8eFB27NihcT4srhv+9O3bV3+vP4F9FWxQ4lk//PBDLSeDwoULaw6G0jJCic2bN6twihUrpucBxHTu3DnN55KK59MiyMsQCbRq1UrDp9sFBggeBeuie/fu0q9fvxQJ7k7wiliwKBCXP/fcc1o9Qu6BhlAFCTAajtF3+fJl56cSglIiQi4MNNz47YC/fWMYYtJSEqrgPpFL4VkRbycmZBiPtWvXqiiqVq0aXz7H2MAggPLly6coTPmvQUQA753Y+CTXYMwQJeB5kYNlyZJFqlWrFj//aHhmgHlHBQx/zy2KuEAoqIiNGTNGevfuLb169fK6UBT7RlId23VatvU0amFhYc5PXceOzy174en5mTNnOr3+h73QraCgIGvq1KmWnW85vXH9dujjfLMs28paHTt2tOy8xYqIiHB6LcvOYSw7Drfq1atnRUZGOr1pH1sQlh0y3jTXibUOHTro+HhiC8WyQ3LLNnqWLSTtw/j+9ddfVnR0tH73Bl4RS1JAGBggDERUVJTTGzcQtkW3QkNDLTtPiV9cFSpUSCCmmJgYy7Ze1p49e5we37F79269RzvcTCAUO3m3Bg4cqAbDBc+KZ7ZjbstO6J3euPHAM3bq1MmyrazTmzixsbFWcHDwTYvNtOHv2DmV89t8x6effqr3AzFBVDcSHh6uBmT16tXxQgEYH4xTYsY1tfBqNcwUbOAheUW8jz0HJKT2oOgGZu7cufUa+95l3bp1WhXLnz+/9vkKJOtujoKE/vTp0/Fhhi0iTWzvv/9+5+rrIDl1Qy2EKkhcEZohp0kuX7nTBB97OMmV730N8jqU5Lt166ald4Rp7rhijeC7ux68gU/EgsoWHth91cEzj0HsioZFg43LSpUqyYIFCzSux3VoiGl/+ukn3Y+wrXmCjUBvg2exraMsXbpUFy9yEM+Gih7u2TPPwisbyEnwqgzKxygDz5s3T18qBSgbe7PK420wf8hNkPS7bw8jZ8V3N2dxDRAMSJcuXW4aV2wAI2+53fz1TvDJ/8xo7NixMnr0aOdbQrBpiYWEqhFEkj59eh0YWOzp06drwp0xY0axwwitiiRmsb0JXuiDqG9FjRo19Hk9PSA2LJGw4n0yPA/erEUlDGDTDt4lUIFRRJL+yy+/OD3XqVOnjo4VzuGaW4G3JoYOHeq19wv5f/7yAdhsRfjl6T0QUqLqhMUyfPhwLZ8T/8Ivc5ZABp6oSZMmGj66bx8gDIPHROiJPIJC8U8oFi+DDUsk2J5AQAjHsCONcJP4JxSLl8mTJ4+2zp076+evv/6q/6AJO/lvvvmmbzbbiBHMWbwMqmd4Rw472vg3MHgVHR6lfv36Wg4m/gvFQoghDMMIMYRiIcQQioUQQygWQgyhWAgxhGIhxBCKhRBDKBZCDKFYCDGEYiHEEIqFEEMoFkIMoVgIMYRiIcQQioUQQygWQgyhWAgxhGIhxBCKhRBDKBZCDKFYCDGEYiHEEIqFEEMoFkIMoVgIMYRiIcQQioUQQygWQgyhWAgxhGIhxBCKhRBDKBZCDKFYCDGEYiHEEIqFEEMoFkIMoVgIMYRiIcQQioUQQygWQgyhWAgxhGIhxBCKhRBDKBZCDKFYCDGEYiHEkIAUy6VLl2TZsmXStm1bKV68uNSuXVtGjRolJ0+edK4gqc3x48dl/PjxOvbuHAQHB8v+/fudKxLHsiyJiIiQkJAQOX/+vNPrHwScWA4cOCBvvPGGfPPNN9KnTx/ZsWOHTJs2TcLCwmTChAly+fJl50qSWuzdu1e6desmGTNmlKVLl8rOnTvlvffek8WLF0urVq1kw4YNzpVxQBRHjx6VNWvWyKBBg6R169ayZcsWiY2Nda7wDwJKLBjwoUOHSkxMjAwcOFAqVaokV65cka+++konKDIyUs6ePetc7R0uXrwoW7du1c//B+AZFi1aJH///bf8+++/2pc+fXqpWbOm1KpVS43ZlClT5NSpU3oOfPnll9K8eXOZPn26eqRz5845Z/yLgBHL1atXZc6cObJixQpp2rSplChRQvvvvvtuadGihbYOHTpIrly5tN9bHDx4UEaOHKmf/w8gBD58+LAu+BkzZsj27du1P0OGDJIlSxY93rdvnxw7dkyPQc+ePdWrhIaGSqNGjZxe/yNgxHLo0CFZtWqVHlesWFHSpUunxwAe5qOPPpJ69eol6Cf/PTBOzz77rI51r169pGzZstoPY3bhwgU9LlCggOTJk0eP0xIBI5bdu3dLeHi4Tg6s27Bhw6Rdu3by1FNPSb9+/eIt3I0gXOjRo4cKDNfCO504cUJGjx4tVapU0b7ly5dreOErsNDmzZunSTLa119/rX0uOJ47d64m0Lh3X1OtWjUNreAxsmbNqn3wrEjcQcOGDSVnzpx6nJYIGLHAtbufgwcPlvr162tij0T/2rVr0qVLl5sSS3zHAuvcubNs3rxZunbtKn379lWBIM5GQlqqVCmZOHGiz8IoiHTJkiWycuVKjenr1q0rkyZN0sKFCxJq5GUQPgyFv4GQDPeORL979+7SrFmzNOnhA0YsbgyMiUHOUr16dZ0Q5CjIV5BYwtq51+ETYoL1e/jhhzWmfuCBB/RcoUKFJCgoSBYsWKDJqi85cuSI3sdrr70m99xzjz4HqkcoXLjs2rVLixco0eKapEChoUaNGnpdShrG6syZM85vSx7kj23atFFviKoYysEIzVxvk9YIGLF4gjAAi98lb968Gp7BOm/atEn78Jk5c2bNZ1xgoUGFChUkX758urAQf8MaQkC+ACVUCL5kyZIqCJTAq1atKg8++KCeh+fZtm2bHmNB45mSAs+1fv16FVdK2tixYyVHjhzOb0sehFszZ86UjRs3yvDhw3WvC947KirKuSJtETBicRPG0qVLS8GCBfU4MdzwpUGDBjp52bJl0+/Yf0EYA8qUKaOJKjzOJ5984tPCgHufEAHCRnhOlGDdRYtSOEQEIAZ/BIYLYXHHjh21CNO7d2/Zs2ePczbt4HOxIMdAyHOjyzdpI0aMiI/R4QkAco1bLWzP8MUThBcoAkA8bgXHFGx2JnZ/aFjsKIviM7HzaFOnTnV+U9JgDwkWumjRolp4cEGZFlYf3qZw4cJOr/+BOUERBSA/RD7oy6JJSvC5WIoUKSLz58+/yeWbNCTjmTJl0t+DciQEg2T+VpPgepIbQQIPr4MJvd2QC6FFYveHhtAPMTs+EzuPhv2f5MBrIqgmQcieokAVECLHOHp7DykxsKnYv39/fSY35HXxDI1R6ve3HfrkCJgwDDE8rCsWzo3vgEE8EBHEhMQfREdHy+TJk7XShNIr4mhYaVh6zyR59uzZ8vnnnzvffAfEghAM1bns2bNrn2e+gpwmKUPgcqcJPl5hSS7BhxedNWuWfqLc7fnmgme5G8YNoW5aImDEghgeZVUAN+/pXVCyhIiaNGmiiwr5CSpjKBvDq6HihBAH5M+fPz5JRv/q1atVhP6CZ5iJ0My13m6IcyvuNMGH0UguwUeYCKMEcT3xxBPxY4n5cPdZ4BkxV77KA1NKwIgFPPPMM/qmMd49QiKJ/AQThH0JVGaw+YjJg5dBroMJfemll3QhYBHBMqMsCwuIcAIbk5UrV/YLsZQrV06FDg+I96rc+4OYIQK37O1rcC9I5OH9EHa544n5wLxAKAMGDEhQjID3wWaq28Dp06f1HT98x/NiznxNOlvxaSvLSgYMPNw/GjxM+fLldd+lZcuWCWJ6hCSoMiF2hmhQ/4cnGTdunE4UQoT27dtL48aN4/OilAAhDhkyRN+6xd9JKZgmCHrMmDHqBVH1Q1u4cKG+hIgXSJMLw7wFFjbGHiHs2rVrdW8I84CxRDHnxpwQ+0gY/6SoU6eOGobcuXM7PT4CYiGph+0JLFt0+nkn2EbAsheh882ybK9phYSEWMWKFbPskNLpJalJQIVhgQhCGORXjzzyiHoVN0lG9Q5JNKpjyA1I6kOxpDIIObAJl9I3ALDpuG7dOq2EuUAwCF1Q6kbZ2vYuzhmSmlAsqQwKCkhm3arQ7YJ/bYi3E7BXg2IE9iZQ8sZGJkSIfCytVZXSKgGX4AcieDXk448/lp9//lnFg8oeKk54LYdC8R4UCyGGMAwjxBCKhRBDKBZCDKFYCDGEYiHEEIqFEEMoFkIMoVgIMYRiIcQQioUQQygWQgyhWAgxhGIhxBCKhRBDKBZCDKFYCDGEYiHECJH/AUPCLaABKBy4AAAAAElFTkSuQmCC)"
   ],
   "metadata": {
    "id": "QcytecGxeKli"
   }
  },
  {
   "cell_type": "code",
   "source": [],
   "metadata": {
    "id": "sS-ocvTpeiQ_"
   },
   "execution_count": null,
   "outputs": []
  },
  {
   "cell_type": "markdown",
   "source": [
    "### 12\n",
    "Resuelva con NumPy el siguiente sistema de ecuaciones\n",
    "\n",
    "![image.png](data:image/png;base64,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)"
   ],
   "metadata": {
    "id": "B-AM7J4cek8c"
   }
  },
  {
   "cell_type": "code",
   "source": [],
   "metadata": {
    "id": "BJHScXfyskxy"
   },
   "execution_count": null,
   "outputs": []
  },
  {
   "cell_type": "markdown",
   "source": [
    "### 13\n",
    "Encuentre los valores propios del siguiente arreglo: [[1, 2],[3, 4]]"
   ],
   "metadata": {
    "id": "sWFSUYJNesgM"
   }
  },
  {
   "cell_type": "code",
   "source": [],
   "metadata": {
    "id": "BDS1U3H0etoB"
   },
   "execution_count": null,
   "outputs": []
  },
  {
   "cell_type": "markdown",
   "source": [
    "### 14\n",
    "Calcule la distancia euclidiana entre los puntos\n",
    "\n",
    "punto_1 = (1, 5, 3)\n",
    "\n",
    "punto_2 = (2, 2, 2))"
   ],
   "metadata": {
    "id": "W4wE9sxBvP8I"
   }
  },
  {
   "cell_type": "code",
   "source": [],
   "metadata": {
    "id": "RWastVa6vQqX"
   },
   "execution_count": null,
   "outputs": []
  },
  {
   "cell_type": "markdown",
   "source": [
    "### 15\n",
    "Calcule el producto punto entre dos arreglos\n",
    "\n",
    "punto_1 = np.array[(1, 5, 3)]\n",
    "\n",
    "punto_2 = np.array[(2, 2, 2))]"
   ],
   "metadata": {
    "id": "lL2euVhwsJig"
   }
  },
  {
   "cell_type": "code",
   "source": [],
   "metadata": {
    "id": "JGVl-hf4w3GY"
   },
   "execution_count": null,
   "outputs": []
  },
  {
   "cell_type": "markdown",
   "source": [
    "### 16\n",
    "Genere un arreglo con números aleatorios enteros de dimensión 5x5. Calcule la suma de cada fila y de cada columna, y la suma de todos los elementos del arreglo."
   ],
   "metadata": {
    "id": "lk5mKxvCw7Pz"
   }
  },
  {
   "cell_type": "code",
   "source": [],
   "metadata": {
    "id": "opQI7rynxaua"
   },
   "execution_count": null,
   "outputs": []
  },
  {
   "cell_type": "markdown",
   "source": [
    "### 17\n",
    "Genere un arreglo de dimensión 5x5 con números aleatorios provenientes de una distribución normal de media 0 y desviación típica 1. Calcule la media, la desviación típica y la mediana de los valores del arreglo. Además, calcule la diferencia entre los valores teóricos de la media y la desviación típica con los de los valores encontrados en el arreglo."
   ],
   "metadata": {
    "id": "bcL0b1mdxuNn"
   }
  },
  {
   "cell_type": "code",
   "source": [],
   "metadata": {
    "id": "-Is9PT4EyiKE"
   },
   "execution_count": null,
   "outputs": []
  },
  {
   "cell_type": "markdown",
   "source": [
    "### 18\n",
    "Calcule las raíces de un polinomio del tipo:\n",
    "\n",
    "![image.png](data:image/png;base64,iVBORw0KGgoAAAANSUhEUgAAArQAAABYCAYAAAAEJ2QKAAAAAXNSR0IArs4c6QAAAARnQU1BAACxjwv8YQUAAAAJcEhZcwAAEnQAABJ0Ad5mH3gAABCwSURBVHhe7d1PiBxlGsfxdxaPHj1MYEQHPHhZEE8zwaAGFpFlD04SMcnBhFyEXYgsQYRER5MJHgyrHvYoo8jMiGGisAeRlUQZycxBBFkEb60kkDl48ODBg9Bbv+p6at6qfqu7q7unpt+Z7wcqXV3/+v1Tk3r6rfetnmonHAAAABCpP2WvAAAAQJQIaAEAABC1qWdfuUaXAwAAAESLPrQAAACIGl0OAAAAEDUCWgAAAESNgBYAAABRI6AFAABA1AhoAQAAEDUCWgAAAESNgBYAAABRI6AFAABA1AhoAQAAEDUCWgAAAESNgBYAAABRI6AFAABA1AhoAQAAEDUC2lHdXXXHpqbcVDJd3cqWVdi80tlu6spmtmT35J+VT8fc6t1sJSKy6a4W6jGZnl9129laAADQWEC77VafL12UK6e4Aq/N5dPuRjZ/6V89Ao2tq+7w653ZhUdmOzO7aP61tmu3b7ul7D1iNe8utpO63KQmAQCo0lBAO+1OfVK+KC+527pQe9Pty9mqiMyfXXEL2fzSP08lOQ3ZdFfnLyWvnTyvnwxvNX7z7uiYy3R77Vj+5aNfizTGaO4oX04AAKjQbJeDPhfl+dfuuZUT2ZtYzJxy61lAfnEuW1agW8aHkxdtczEJMQEAADBOE9aHVi256+7UTPZ2X+jcMg4HuwAAABjVxAS0upVddQu7e4DTVZcOq9q6OuDyUr9cbyCXP4U/P9D/NxuU05WuwGAd/xZ9PvmDwoJ5KA8EGrBfcSBf1m83qOuzp9yxtYpewNmxD52yHsPOXZrP9ivku9cgpu6y1OcVyqg0YK6y7j2hMs7rsm/59irbfn2//+r+8bfisl75CZ4LgfxI97aHnTqthIXTSZcQAMCB0W7U7fZS8pH6WOeWknems3xpM3tr7qy0F7LtF1bvpYtuXy7t721TPOa99soJW77QXrnTWbqz/87nhZalNpdKy71jnlhJ3hW3yZelvLx6y7vSL4U8+OuqyqvbvdWFfH8rq+Jxd8pA8nRczo7qb2vLAvzP6aqvvCwsrX4d7KTfL29NC6srXj6zdA5S997x8zx79REuh87+K14+wvn1yt7Wh46d6J+fUD1W1W34vPXLvXCeBdMUSDsAAPvYHga03VMxQAoFQ/7+drEPB01VgUEoAAgGg/5nWQBRCIyyz/KXBQPXUr6CgWNVHvzjeHkoC6UrE9o/HJRWBVhFlQFtMF8V5RCog3y7tAwHq/tg2QTrI3A8b7viedcx8DkhffMTSmv4/CwEroVgNPTZ1XVWWU8AAOxDe9jlwH/KQeDxUlvvu9PXs/kTs67zoCtv1P6JY+7oMH1t5y5mn6mnDbj0Vq1/G91sr13bucX759nO0wtmjrpjNmjt8tEeA7w23c38Vv+Cm/XTOTPrHs9m3es3g7eb69reWM8fHdY7XbLtbn4a6DZQuKX9nWvVfHRaIQ2vH85ve/tdHr5rVXRnSHQeM5ZMn5xy0wPVvV/GN9zpB7N8PLjzGDV3veVa2WyXvoP5+uh17EQhP/779ro75dR949BOHnPFuln6S58hhFs3d+osL6eO6dn8LHOX/juOswwAgMk1IX1o59251YVsvrdyoDCMnX6Zh9z6c/fcvQE/O3/8mD7/tXE8r6B+4DhuS+nTF8rTiAPzLt8OHHP0x5VV1/2CW7lT/KzONPxTJaZPXsi/ZN349GYSaia8AHJh9VzNY3v9dh9cd8fuNPhEj/+1OukHAGCfmphBYdMn17OWMg1wCQ+UGV1n8Iy1GiqYa+6ZsCGPF1tvMUH0dIos6Lx+2h1SIJo+S3iI8yYdUGct4Loz0fCTPOwOAwAA+9SEPbYrCTnX/t65Fes/s/b6urtZbsnculo9Ir9Sy7Xy27ylrgAl00eO5T+YEOoaoFHo1aPI/R80uFFshb3bct9ls/27BwymkNa+rXHT7uhzOy3SodvRylvdsu1XXmlQN+hPtg5U97OFMl7f6D6yWuJHGem/eUXdArpbf2t3UUjqPO9IUOoaUFSsm15dNFKFcip2gdhu5WdZ/64LAADELrlAN6cweMkbyGNsvQ168QbbFAbhaDvvfWjgUWFwTb7cH0QTXrYzAKjHAB2ly94HByFJeADRTlr9QTx+Gvxy8QcO9R7c46c1z0OhvP39i8ftynNhMFKJXyel7QrlVa4vL7+V5eobqO5D9dmhcg4O5gqdd0HFY3dNXpr65sfPi5VDYVlVnVcMFvPPHe84wfz2qksAAPaJhgLaYgDVd/IDmFBgUVgv3cdfWL0dWJbsVQryOsFBeX8vYOjaPpmyIKEYZNjk7ZsIbeMHkMHjp4FMuMwK+5YVgqRkSsppxQv2bZkdoW/aKvhfINLJr49Qfrz1XfumU1WQOUjdh4+ZB7fB8k2mgQK9/kHtfwbMT1dZ6/PLafPSVM5T8VFgtiyvycC5UlWmAADsP1P6J7kAAvCo20Xn6Rfq81ocXKauDJ1+2OqOsN9+2Q4AgPhMXB9aYO9tuvftUW6BPq+zjyxkcwAAYBIQ0AJdkiDWHql1/bR7vzCwbCfYXVj9N62zAABMALocABV2uh2UdXdDAAAAe4eAFgAAAFGjywEAAACiRkALAACAqBHQAgAAIGoEtAAAAIgaAS0AAACiRkALAACAqBHQAgAAIGoEtAAAAIgaAS0AAACiRkALAACAqBHQAgAAIGoEtAAAAIgaAS0AAACiRkALAACAqE21E9l81D744IP09amnnnIPP/xwOh+zV1991T366KP7Jj8AAAC7JfoW2p9++sk9/fTTaeCn+dnZWffNN99ka+P0xhtvuJdeeimdV94sWAcAAEC36APar776Kp3UiqlAULa2ttLXGCko//rrr9P5M2fOpIH6hx9+mL4HAABAt+gDWgV9rVYrnVcwKMePH09fY6Xg3LoZPPTQQ2nADsTO/j4BABi3fTEoTMGfbsvr9vytW7ca73OqC/XZs2fTz1eXh1Eo7cvLy9k7537++ee0lRb1qcVedaJpr74U6NzgC0mnHI4cOZK9GxzlBwAYxL55yoGCvhdffNG9+eabe9ISpM8e9+fqQq5JQTrq06A6URnuxZccC6bVZURfdK5du5atPXj0hfPKlSvZu/5UflNTU+kXRSu/vfi7BgBEQk852E+SwKV95syZ7F19y8vL2Vx9Ks7FxcXs3WharVZ7bm4ueze8UfKzF95+++1sbjx0PiRfdrJ3zdFn+ueh6lNpSb6cZEsOjo2NjTTvdehvyT93Na9jqBwBACiLvoVWLTiaTHLRG+kW5bADsMbZeqRjqUVrc3MzfW+D3YYR04Ay1dtvv/2WvRsPlaXOiSZZy7pa7Y3SoEl3EA6aL7/8stCNph97qof6xxvdgbG/CwAAyqIPaDVo6scff8zedYIJP5Boil1oRwk+jQL0X3/9NT3WiRMn3BdffJGtQR1WJ08++WT62hT7ElEOpPX+oN02V35VHnX6gSvoD5WdJv4WAAAhexLQ6iJnA3bUr7Cq5UXbWAustlGwWm6R1TbqK2nL1RI0jqCyLl1odcHVDyJY38ly8KL02zptp/VqhZqfn8+3tX6W33//ffr4rl9++cU988wz6bK9YGWuNKtc/Txp3tap/uy9gvC9aEnT59t5pVd7/FmdYGqc7t69m83tUBpVppNIdaZyUx0qnTaNQses0zrbT6hMAQBo/JfCLKg7f/58+ngt3Y5Ui8zc3Fx+i10U5CmQ0wVWk1p5/vjjD7exseFOnjyZrxs3pW2YQVgawCJra2vuhRdeSNOmfOmRYgp0lW/lQRd3CxKVn48++ijd7vfffy/kf1yGzY9Yub/11ltpnnQs0fEU6Fg9vvzyy+mgHeXn3LlzaQCpdZb3QalcNA1Tr1XnlfQ7xYcJvv3b4WU6d/Us5HL+Vef6LJXfXgXZVVTm+lKm81dUdhaM9sprvwBdeS4HtMp7r/NCf0szMzPuzp072ZIOK9eG/8sCAESg0RZaC4J0gXz33XfdE088kV8sbUS66AKp9xbY6Pa79lUwq3W6qE1SQGCtWIuLi2ngJ5YvW6cAwS7s9913X7pco74t2PXzPwksIFealSel1w9cVH9ap2BWLECx/ZqktFWdV/Zaxeqnjn5B+vb2dvpatd23336bzU0GBa6qM31xUZo1WTeNUf7O7AtcWa8yt3UKaKsMU2cAgP2t0RZaBR0KivyWK11MrRXHgg9t419IrWVrnEmtagXURTjUB1fprQqOFNS99957hfQpD8qvglzbr5xnKwddoG3dsHTM0IW+Kj9SVQY6jlpclSal0fjpVNeICxcupPO2vfJqx+yVJ61Tesv0zF2tC/V51flQFVwNel41JZQesfN40lpo1SKqMvKDz1H/5lSPKgf//BmEfrZaz6stn3tij+5q8L8sAEAkGm2h1UVe/It8qJ9j+WKv/cYdlCgNoanfuhD1dy2v/+yzz9LX0P6WZ1tW3ncY/ucMOlVRK6coQPX5+1gwKwoyxF/f6/hiafAnDfCrWqepyqDn1aTolZemhb5YyKh/czpuqHW2H7WuAwBQV2MttLpAqsWm3BLkt7rotXyx//jjj9M+s35LW2i7cVEa6/Y5tdZMfz9rpQsVr7ZXoDXMBb+uYfJjaS+3MFaxbgajnkr6TE1VLcchw55XvjqfJzpWr2DPyqOqhXbQcm2Cpcn/+xK12vot7lVUtqGgWPkvfyEy/cpP9anjhlpo1TXn888/z5YAANDRWAutXcDLt5N14bKLmy5kogukLl6iwVLit7TpIqz9JokfoChtCrTsgm5BlwVsWm+tkaKgQcsnxQMPPJDNdbN0Kj+qB1G3hnL+rS53W53zqorOrbpTL7a+fI6q7JQmv6xCtJ3+Bsr77wY7D/08WYB6//33p/NWzyHKi18umn744Yc0QC4v96deVJcaYFjWRHkAACLVbkgr+6Wk5IKev08ubGrSS38dKrkAto8fP56u03Jta/tom1vZLyxpu3H/mpRPn11XErjm+1m+/ONoveVByzWvZWLb75Zhjr22tpamUWVtLJ3nz59P5y0PypPm/V8103bapi4dy8plUPqcmZmZ/NwRv4x3+3wJsbLyy97Kyc7jXiz9fvnvlnK6rG416Re+9Pdapy61z6i/cGd16tebykJpqpMWAMDB0VhAK7oYKcjQRVKBqgUwmvcvgrp46X15G13o6wY8dflBSB3KkyZddMtptMBAedBF+p133knntUzbav1uGTY/qgMFFdpfr0qrH4xpuZbZ8a0Oy9vVYXVd16DnVZOUJpWN0qC06LwYNEC1tCs/TVC69FnT09Ptxx57LE+7ltWtD+0zjqBTX6osDfoSZfUKAEBIY31oe9GtxOSClb3r0Ghnf4BIaJvdoNvTyYUzexe/UfPTVLmLbrVrqtuntUqTaa9iXTSS4Cx9HZTSrtv94yqLJijN6p4wrr8fHU+T1C0/AMDBMhEB7SRRALKfLp4Kis70GIAzSSyAIXjp9KtWMB5L3YmC2cXFxT3/EgEAOHgIaIEJo6BeLeut0ij/SaY0j7N1FgCAOhp9Di2A/hQcLjfwSLdx0mO69Mt3AADsBVpoAYxMQThdDQAAe4WAFgAAAFGjywEAAACiRkALAACAqBHQAgAAIGoEtAAAAIgaAS0AAACiRkALAACAqBHQAgAAIGoEtAAAAIgaAS0AAACiRkALAACAqBHQAgAAIGpTz75yrZ3NAwAAANGZaieyeQAAACAyzv0fXLJq31Mgh08AAAAASUVORK5CYII=)\n",
    "\n",
    "siendo a = 3, b = 5, c = 7 y d 1"
   ],
   "metadata": {
    "id": "qQEXBPLvyi7W"
   }
  },
  {
   "cell_type": "code",
   "source": [],
   "metadata": {
    "id": "JjYLTGrsz6bm"
   },
   "execution_count": null,
   "outputs": []
  },
  {
   "cell_type": "code",
   "source": [],
   "metadata": {
    "id": "lQA--hpYzBjy"
   },
   "execution_count": null,
   "outputs": []
  },
  {
   "cell_type": "markdown",
   "source": [
    "### 19\n",
    "Utilice como referencia el archivo [numeros_v20210520.txt](https://drive.google.com/file/d/1aAMTC-ybOq0y1XdmSRGhj7QkimiCUDxt/view?usp=share_link). Operaciones solicitadas: uno, organice en orden descendente los números contenidos en el archivo. Dos, cconstruya  un arreglo de **n** filas y dos columnas, en orden ascendente, de los números que no tienen dígitos repetidos, y cuya suma de dígitos es mayor que 9 y menor que 20. Es necesario mostrar tanto el número como la suma correspondiente a los dígitos en la misma fila."
   ],
   "metadata": {
    "id": "ABqYJzCSz8nB"
   }
  },
  {
   "cell_type": "code",
   "source": [],
   "metadata": {
    "id": "5PzDrWG5-Zl-"
   },
   "execution_count": null,
   "outputs": []
  },
  {
   "cell_type": "markdown",
   "source": [
    "### 20\n",
    "Utilice como referencia el archivo [numeros_v20210520.txt](https://drive.google.com/file/d/1aAMTC-ybOq0y1XdmSRGhj7QkimiCUDxt/view). Operaciones solicitadas: uno, encontrar y organizar en orden descendente los números presentes en el archivo que sean cuadrados perfectos de otro número contenido en el archivo. Muestre en un archivo tanto el cuadrado perfecto como el número asociado con él. Dos, construya un arreglo en orden ascendente de la descomposición factorial de los 20 números más grandes contenidos en el archivo. Muestre en un archivo tanto el número como su descomposición factorial en la misma fila."
   ],
   "metadata": {
    "id": "IHNGASE4-cSd"
   }
  },
  {
   "cell_type": "code",
   "source": [],
   "metadata": {
    "id": "xL1lUGMW_VPU"
   },
   "execution_count": null,
   "outputs": []
  }
 ]
}
